{
 "cells": [
  {
   "cell_type": "code",
   "execution_count": 1,
   "id": "86649d28",
   "metadata": {
    "scrolled": true
   },
   "outputs": [
    {
     "name": "stdout",
     "output_type": "stream",
     "text": [
      "Looking in indexes: https://pypi.org/simple, https://download.pytorch.org/whl/cu113\n",
      "Requirement already satisfied: torch in c:\\users\\ddey4\\anaconda3\\lib\\site-packages (1.11.0+cu113)\n",
      "Requirement already satisfied: torchvision in c:\\users\\ddey4\\anaconda3\\lib\\site-packages (0.12.0+cu113)\n",
      "Requirement already satisfied: torchaudio in c:\\users\\ddey4\\anaconda3\\lib\\site-packages (0.11.0+cu113)\n",
      "Requirement already satisfied: typing-extensions in c:\\users\\ddey4\\anaconda3\\lib\\site-packages (from torch) (3.7.4.3)\n",
      "Requirement already satisfied: pillow!=8.3.*,>=5.3.0 in c:\\users\\ddey4\\anaconda3\\lib\\site-packages (from torchvision) (8.2.0)\n",
      "Requirement already satisfied: requests in c:\\users\\ddey4\\anaconda3\\lib\\site-packages (from torchvision) (2.25.1)\n",
      "Requirement already satisfied: numpy in c:\\users\\ddey4\\anaconda3\\lib\\site-packages (from torchvision) (1.20.1)\n",
      "Requirement already satisfied: chardet<5,>=3.0.2 in c:\\users\\ddey4\\anaconda3\\lib\\site-packages (from requests->torchvision) (4.0.0)\n",
      "Requirement already satisfied: certifi>=2017.4.17 in c:\\users\\ddey4\\anaconda3\\lib\\site-packages (from requests->torchvision) (2021.10.8)\n",
      "Requirement already satisfied: urllib3<1.27,>=1.21.1 in c:\\users\\ddey4\\anaconda3\\lib\\site-packages (from requests->torchvision) (1.26.4)\n",
      "Requirement already satisfied: idna<3,>=2.5 in c:\\users\\ddey4\\anaconda3\\lib\\site-packages (from requests->torchvision) (2.10)\n"
     ]
    }
   ],
   "source": [
    "!pip install torch torchvision torchaudio --extra-index-url https://download.pytorch.org/whl/cu113"
   ]
  },
  {
   "cell_type": "code",
   "execution_count": 2,
   "id": "569e3771",
   "metadata": {},
   "outputs": [
    {
     "name": "stdout",
     "output_type": "stream",
     "text": [
      "Requirement already satisfied: transformers in c:\\users\\ddey4\\anaconda3\\lib\\site-packages (4.18.0)\n",
      "Requirement already satisfied: requests in c:\\users\\ddey4\\anaconda3\\lib\\site-packages (from transformers) (2.25.1)\n",
      "Requirement already satisfied: regex!=2019.12.17 in c:\\users\\ddey4\\anaconda3\\lib\\site-packages (from transformers) (2021.4.4)\n",
      "Requirement already satisfied: numpy>=1.17 in c:\\users\\ddey4\\anaconda3\\lib\\site-packages (from transformers) (1.20.1)\n",
      "Requirement already satisfied: tokenizers!=0.11.3,<0.13,>=0.11.1 in c:\\users\\ddey4\\anaconda3\\lib\\site-packages (from transformers) (0.12.1)\n",
      "Requirement already satisfied: tqdm>=4.27 in c:\\users\\ddey4\\anaconda3\\lib\\site-packages (from transformers) (4.64.0)\n",
      "Requirement already satisfied: packaging>=20.0 in c:\\users\\ddey4\\anaconda3\\lib\\site-packages (from transformers) (20.9)\n",
      "Requirement already satisfied: pyyaml>=5.1 in c:\\users\\ddey4\\anaconda3\\lib\\site-packages (from transformers) (5.4.1)\n",
      "Requirement already satisfied: huggingface-hub<1.0,>=0.1.0 in c:\\users\\ddey4\\anaconda3\\lib\\site-packages (from transformers) (0.5.1)\n",
      "Requirement already satisfied: sacremoses in c:\\users\\ddey4\\anaconda3\\lib\\site-packages (from transformers) (0.0.49)\n",
      "Requirement already satisfied: filelock in c:\\users\\ddey4\\anaconda3\\lib\\site-packages (from transformers) (3.0.12)\n",
      "Requirement already satisfied: typing-extensions>=3.7.4.3 in c:\\users\\ddey4\\anaconda3\\lib\\site-packages (from huggingface-hub<1.0,>=0.1.0->transformers) (3.7.4.3)\n",
      "Requirement already satisfied: pyparsing>=2.0.2 in c:\\users\\ddey4\\anaconda3\\lib\\site-packages (from packaging>=20.0->transformers) (2.4.7)\n",
      "Requirement already satisfied: colorama in c:\\users\\ddey4\\anaconda3\\lib\\site-packages (from tqdm>=4.27->transformers) (0.4.4)\n",
      "Requirement already satisfied: certifi>=2017.4.17 in c:\\users\\ddey4\\anaconda3\\lib\\site-packages (from requests->transformers) (2021.10.8)\n",
      "Requirement already satisfied: urllib3<1.27,>=1.21.1 in c:\\users\\ddey4\\anaconda3\\lib\\site-packages (from requests->transformers) (1.26.4)\n",
      "Requirement already satisfied: chardet<5,>=3.0.2 in c:\\users\\ddey4\\anaconda3\\lib\\site-packages (from requests->transformers) (4.0.0)\n",
      "Requirement already satisfied: idna<3,>=2.5 in c:\\users\\ddey4\\anaconda3\\lib\\site-packages (from requests->transformers) (2.10)\n",
      "Requirement already satisfied: click in c:\\users\\ddey4\\anaconda3\\lib\\site-packages (from sacremoses->transformers) (7.1.2)\n",
      "Requirement already satisfied: joblib in c:\\users\\ddey4\\anaconda3\\lib\\site-packages (from sacremoses->transformers) (1.0.1)\n",
      "Requirement already satisfied: six in c:\\users\\ddey4\\anaconda3\\lib\\site-packages (from sacremoses->transformers) (1.15.0)\n"
     ]
    }
   ],
   "source": [
    "!pip install transformers"
   ]
  },
  {
   "cell_type": "code",
   "execution_count": 3,
   "id": "137ce131",
   "metadata": {},
   "outputs": [
    {
     "name": "stderr",
     "output_type": "stream",
     "text": [
      "Some weights of the model checkpoint at distilbert-base-uncased were not used when initializing DistilBertForSequenceClassification: ['vocab_transform.weight', 'vocab_transform.bias', 'vocab_projector.weight', 'vocab_layer_norm.weight', 'vocab_layer_norm.bias', 'vocab_projector.bias']\n",
      "- This IS expected if you are initializing DistilBertForSequenceClassification from the checkpoint of a model trained on another task or with another architecture (e.g. initializing a BertForSequenceClassification model from a BertForPreTraining model).\n",
      "- This IS NOT expected if you are initializing DistilBertForSequenceClassification from the checkpoint of a model that you expect to be exactly identical (initializing a BertForSequenceClassification model from a BertForSequenceClassification model).\n",
      "Some weights of DistilBertForSequenceClassification were not initialized from the model checkpoint at distilbert-base-uncased and are newly initialized: ['classifier.weight', 'classifier.bias', 'pre_classifier.bias', 'pre_classifier.weight']\n",
      "You should probably TRAIN this model on a down-stream task to be able to use it for predictions and inference.\n"
     ]
    }
   ],
   "source": [
    "from transformers import AutoTokenizer, AutoModel\n",
    "import torch\n",
    "import numpy as np\n",
    "from transformers import AutoTokenizer\n",
    "\n",
    "tokenizer = AutoTokenizer.from_pretrained(\"bert-base-uncased\")\n",
    "\n",
    "from sklearn.metrics import accuracy_score , recall_score , precision_score ,f1_score\n",
    "from transformers import AutoModelForSequenceClassification, TrainingArguments, Trainer\n",
    "\n",
    "model = AutoModelForSequenceClassification.from_pretrained(\"distilbert-base-uncased\", num_labels=2)\n",
    "#from transformers import BertModel, BertConfig\n",
    "\n",
    "# Initializing a BERT bert-base-uncased style configuration\n",
    "#bert_configuration = BertConfig()\n",
    "\n",
    "# Initializing a model from the bert-base-uncased style configuration\n",
    "#bert_model = BertModel(bert_configuration)\n",
    "\n",
    "# Accessing the model configuration\n",
    "#bert_configuration = model.config\n",
    "\n",
    "\n",
    "#from transformers import BertModel, AutoConfig\n",
    "\n",
    "#configuration = AutoConfig.from_pretrained('bert-base-uncased', num_labels=2)\n",
    "#configuration.hidden_dropout_prob = 0.5\n",
    "#configuration.attention_probs_dropout_prob = 0.5\n",
    "        \n",
    "#bert_model = BertModel.from_pretrained(pretrained_model_name_or_path = 'bert-base-uncased', \n",
    "#config = configuration)"
   ]
  },
  {
   "cell_type": "code",
   "execution_count": 4,
   "id": "3c390bbe",
   "metadata": {},
   "outputs": [
    {
     "name": "stdout",
     "output_type": "stream",
     "text": [
      "Requirement already satisfied: datasets in c:\\users\\ddey4\\anaconda3\\lib\\site-packages (2.1.0)\n",
      "Requirement already satisfied: numpy>=1.17 in c:\\users\\ddey4\\anaconda3\\lib\\site-packages (from datasets) (1.20.1)\n",
      "Requirement already satisfied: tqdm>=4.62.1 in c:\\users\\ddey4\\anaconda3\\lib\\site-packages (from datasets) (4.64.0)\n",
      "Requirement already satisfied: pyarrow>=5.0.0 in c:\\users\\ddey4\\anaconda3\\lib\\site-packages (from datasets) (7.0.0)\n",
      "Requirement already satisfied: responses<0.19 in c:\\users\\ddey4\\anaconda3\\lib\\site-packages (from datasets) (0.18.0)\n",
      "Requirement already satisfied: multiprocess in c:\\users\\ddey4\\anaconda3\\lib\\site-packages (from datasets) (0.70.12.2)\n",
      "Requirement already satisfied: packaging in c:\\users\\ddey4\\anaconda3\\lib\\site-packages (from datasets) (20.9)\n",
      "Requirement already satisfied: huggingface-hub<1.0.0,>=0.1.0 in c:\\users\\ddey4\\anaconda3\\lib\\site-packages (from datasets) (0.5.1)\n",
      "Requirement already satisfied: fsspec[http]>=2021.05.0 in c:\\users\\ddey4\\anaconda3\\lib\\site-packages (from datasets) (2022.3.0)\n",
      "Requirement already satisfied: dill in c:\\users\\ddey4\\anaconda3\\lib\\site-packages (from datasets) (0.3.4)\n",
      "Requirement already satisfied: aiohttp in c:\\users\\ddey4\\anaconda3\\lib\\site-packages (from datasets) (3.8.1)\n",
      "Requirement already satisfied: pandas in c:\\users\\ddey4\\anaconda3\\lib\\site-packages (from datasets) (1.2.4)\n",
      "Requirement already satisfied: xxhash in c:\\users\\ddey4\\anaconda3\\lib\\site-packages (from datasets) (3.0.0)\n",
      "Requirement already satisfied: requests>=2.19.0 in c:\\users\\ddey4\\anaconda3\\lib\\site-packages (from datasets) (2.25.1)\n",
      "Requirement already satisfied: filelock in c:\\users\\ddey4\\anaconda3\\lib\\site-packages (from huggingface-hub<1.0.0,>=0.1.0->datasets) (3.0.12)\n",
      "Requirement already satisfied: pyyaml in c:\\users\\ddey4\\anaconda3\\lib\\site-packages (from huggingface-hub<1.0.0,>=0.1.0->datasets) (5.4.1)\n",
      "Requirement already satisfied: typing-extensions>=3.7.4.3 in c:\\users\\ddey4\\anaconda3\\lib\\site-packages (from huggingface-hub<1.0.0,>=0.1.0->datasets) (3.7.4.3)\n",
      "Requirement already satisfied: pyparsing>=2.0.2 in c:\\users\\ddey4\\anaconda3\\lib\\site-packages (from packaging->datasets) (2.4.7)\n",
      "Requirement already satisfied: certifi>=2017.4.17 in c:\\users\\ddey4\\anaconda3\\lib\\site-packages (from requests>=2.19.0->datasets) (2021.10.8)\n",
      "Requirement already satisfied: chardet<5,>=3.0.2 in c:\\users\\ddey4\\anaconda3\\lib\\site-packages (from requests>=2.19.0->datasets) (4.0.0)\n",
      "Requirement already satisfied: urllib3<1.27,>=1.21.1 in c:\\users\\ddey4\\anaconda3\\lib\\site-packages (from requests>=2.19.0->datasets) (1.26.4)\n",
      "Requirement already satisfied: idna<3,>=2.5 in c:\\users\\ddey4\\anaconda3\\lib\\site-packages (from requests>=2.19.0->datasets) (2.10)\n",
      "Requirement already satisfied: colorama in c:\\users\\ddey4\\anaconda3\\lib\\site-packages (from tqdm>=4.62.1->datasets) (0.4.4)\n",
      "Requirement already satisfied: attrs>=17.3.0 in c:\\users\\ddey4\\anaconda3\\lib\\site-packages (from aiohttp->datasets) (20.3.0)\n",
      "Requirement already satisfied: aiosignal>=1.1.2 in c:\\users\\ddey4\\anaconda3\\lib\\site-packages (from aiohttp->datasets) (1.2.0)\n",
      "Requirement already satisfied: frozenlist>=1.1.1 in c:\\users\\ddey4\\anaconda3\\lib\\site-packages (from aiohttp->datasets) (1.3.0)\n",
      "Requirement already satisfied: yarl<2.0,>=1.0 in c:\\users\\ddey4\\anaconda3\\lib\\site-packages (from aiohttp->datasets) (1.7.2)\n",
      "Requirement already satisfied: charset-normalizer<3.0,>=2.0 in c:\\users\\ddey4\\anaconda3\\lib\\site-packages (from aiohttp->datasets) (2.0.12)\n",
      "Requirement already satisfied: multidict<7.0,>=4.5 in c:\\users\\ddey4\\anaconda3\\lib\\site-packages (from aiohttp->datasets) (6.0.2)\n",
      "Requirement already satisfied: async-timeout<5.0,>=4.0.0a3 in c:\\users\\ddey4\\anaconda3\\lib\\site-packages (from aiohttp->datasets) (4.0.2)\n",
      "Requirement already satisfied: python-dateutil>=2.7.3 in c:\\users\\ddey4\\anaconda3\\lib\\site-packages (from pandas->datasets) (2.8.1)\n",
      "Requirement already satisfied: pytz>=2017.3 in c:\\users\\ddey4\\anaconda3\\lib\\site-packages (from pandas->datasets) (2021.1)\n",
      "Requirement already satisfied: six>=1.5 in c:\\users\\ddey4\\anaconda3\\lib\\site-packages (from python-dateutil>=2.7.3->pandas->datasets) (1.15.0)\n"
     ]
    }
   ],
   "source": [
    "!pip install datasets\n",
    "from datasets import Dataset"
   ]
  },
  {
   "cell_type": "code",
   "execution_count": null,
   "id": "0cf27c8a",
   "metadata": {},
   "outputs": [],
   "source": []
  },
  {
   "cell_type": "code",
   "execution_count": 5,
   "id": "7b85a8b3",
   "metadata": {},
   "outputs": [],
   "source": [
    "import pandas as pd\n",
    "CleanedData= pd.read_csv('C:/Users/ddey4/Downloads/archive/Cleaned_Youtube.csv',index_col=0)"
   ]
  },
  {
   "cell_type": "code",
   "execution_count": 6,
   "id": "472ab1ef",
   "metadata": {},
   "outputs": [],
   "source": [
    "ActualData = CleanedData[['No Punc Title','label']]"
   ]
  },
  {
   "cell_type": "code",
   "execution_count": 7,
   "id": "3b000b69",
   "metadata": {},
   "outputs": [
    {
     "data": {
      "text/html": [
       "<div>\n",
       "<style scoped>\n",
       "    .dataframe tbody tr th:only-of-type {\n",
       "        vertical-align: middle;\n",
       "    }\n",
       "\n",
       "    .dataframe tbody tr th {\n",
       "        vertical-align: top;\n",
       "    }\n",
       "\n",
       "    .dataframe thead th {\n",
       "        text-align: right;\n",
       "    }\n",
       "</style>\n",
       "<table border=\"1\" class=\"dataframe\">\n",
       "  <thead>\n",
       "    <tr style=\"text-align: right;\">\n",
       "      <th></th>\n",
       "      <th>No Punc Title</th>\n",
       "      <th>label</th>\n",
       "    </tr>\n",
       "  </thead>\n",
       "  <tbody>\n",
       "    <tr>\n",
       "      <th>0</th>\n",
       "      <td>we want to talk about our marriage</td>\n",
       "      <td>1</td>\n",
       "    </tr>\n",
       "    <tr>\n",
       "      <th>1</th>\n",
       "      <td>the trump presidency last week tonight with jo...</td>\n",
       "      <td>1</td>\n",
       "    </tr>\n",
       "    <tr>\n",
       "      <th>2</th>\n",
       "      <td>racist superman | rudy mancuso king bach  lele...</td>\n",
       "      <td>1</td>\n",
       "    </tr>\n",
       "    <tr>\n",
       "      <th>3</th>\n",
       "      <td>nickelback lyrics real or fake</td>\n",
       "      <td>0</td>\n",
       "    </tr>\n",
       "    <tr>\n",
       "      <th>4</th>\n",
       "      <td>2 weeks with iphone x</td>\n",
       "      <td>0</td>\n",
       "    </tr>\n",
       "    <tr>\n",
       "      <th>...</th>\n",
       "      <td>...</td>\n",
       "      <td>...</td>\n",
       "    </tr>\n",
       "    <tr>\n",
       "      <th>64188</th>\n",
       "      <td>cyberpunk 2077 story open world and firstperso...</td>\n",
       "      <td>1</td>\n",
       "    </tr>\n",
       "    <tr>\n",
       "      <th>64189</th>\n",
       "      <td>masterchef | standup comedy by karunesh talwar</td>\n",
       "      <td>1</td>\n",
       "    </tr>\n",
       "    <tr>\n",
       "      <th>64190</th>\n",
       "      <td>how2 how to solve a mystery</td>\n",
       "      <td>0</td>\n",
       "    </tr>\n",
       "    <tr>\n",
       "      <th>64191</th>\n",
       "      <td>kingdom hearts iii – square enix e3 showcase 2...</td>\n",
       "      <td>1</td>\n",
       "    </tr>\n",
       "    <tr>\n",
       "      <th>64192</th>\n",
       "      <td>trump advisor grovels to trudeau</td>\n",
       "      <td>0</td>\n",
       "    </tr>\n",
       "  </tbody>\n",
       "</table>\n",
       "<p>64193 rows × 2 columns</p>\n",
       "</div>"
      ],
      "text/plain": [
       "                                           No Punc Title  label\n",
       "0                     we want to talk about our marriage      1\n",
       "1      the trump presidency last week tonight with jo...      1\n",
       "2      racist superman | rudy mancuso king bach  lele...      1\n",
       "3                         nickelback lyrics real or fake      0\n",
       "4                                  2 weeks with iphone x      0\n",
       "...                                                  ...    ...\n",
       "64188  cyberpunk 2077 story open world and firstperso...      1\n",
       "64189     masterchef | standup comedy by karunesh talwar      1\n",
       "64190                        how2 how to solve a mystery      0\n",
       "64191  kingdom hearts iii – square enix e3 showcase 2...      1\n",
       "64192                   trump advisor grovels to trudeau      0\n",
       "\n",
       "[64193 rows x 2 columns]"
      ]
     },
     "execution_count": 7,
     "metadata": {},
     "output_type": "execute_result"
    }
   ],
   "source": [
    "ActualData.reset_index(drop = True, inplace = True)\n",
    "ActualData\n"
   ]
  },
  {
   "cell_type": "code",
   "execution_count": 8,
   "id": "3d0ae0b2",
   "metadata": {},
   "outputs": [
    {
     "data": {
      "text/plain": [
       "Dataset({\n",
       "    features: ['No Punc Title', 'label'],\n",
       "    num_rows: 64193\n",
       "})"
      ]
     },
     "execution_count": 8,
     "metadata": {},
     "output_type": "execute_result"
    }
   ],
   "source": [
    "dataset = Dataset.from_pandas(ActualData)\n",
    "dataset"
   ]
  },
  {
   "cell_type": "code",
   "execution_count": 9,
   "id": "1d899433",
   "metadata": {},
   "outputs": [],
   "source": [
    "from datasets import DatasetDict\n",
    "# 80% train, 20% test + validation\n",
    "train_testvalid = dataset.train_test_split(test_size=0.2)\n",
    "# Split the 20% test + valid in half test, half valid\n",
    "test_valid = train_testvalid['test'].train_test_split(test_size=0.5)\n",
    "# gather everyone if you want to have a single DatasetDict\n",
    "train_test_valid_dataset = DatasetDict({\n",
    "    'train': train_testvalid['train'],\n",
    "    'test': test_valid['test'],\n",
    "    'valid': test_valid['train']})\n",
    "\n",
    "dataset = train_test_valid_dataset"
   ]
  },
  {
   "cell_type": "code",
   "execution_count": 10,
   "id": "8709a1dd",
   "metadata": {},
   "outputs": [
    {
     "data": {
      "text/plain": [
       "DatasetDict({\n",
       "    train: Dataset({\n",
       "        features: ['No Punc Title', 'label'],\n",
       "        num_rows: 51354\n",
       "    })\n",
       "    test: Dataset({\n",
       "        features: ['No Punc Title', 'label'],\n",
       "        num_rows: 6420\n",
       "    })\n",
       "    valid: Dataset({\n",
       "        features: ['No Punc Title', 'label'],\n",
       "        num_rows: 6419\n",
       "    })\n",
       "})"
      ]
     },
     "execution_count": 10,
     "metadata": {},
     "output_type": "execute_result"
    }
   ],
   "source": [
    "dataset"
   ]
  },
  {
   "cell_type": "code",
   "execution_count": null,
   "id": "7fda3032",
   "metadata": {},
   "outputs": [],
   "source": []
  },
  {
   "cell_type": "code",
   "execution_count": 11,
   "id": "67e11acc",
   "metadata": {},
   "outputs": [],
   "source": [
    "def preprocess_function(examples):\n",
    "    return tokenizer(examples[\"No Punc Title\"], truncation=True,padding=True, max_length = 512)"
   ]
  },
  {
   "cell_type": "code",
   "execution_count": 12,
   "id": "831a95fa",
   "metadata": {},
   "outputs": [
    {
     "data": {
      "application/vnd.jupyter.widget-view+json": {
       "model_id": "eb8b30df962f4c67bf59edf6dc9a2683",
       "version_major": 2,
       "version_minor": 0
      },
      "text/plain": [
       "  0%|          | 0/52 [00:00<?, ?ba/s]"
      ]
     },
     "metadata": {},
     "output_type": "display_data"
    },
    {
     "data": {
      "application/vnd.jupyter.widget-view+json": {
       "model_id": "007c61519a804c87be128a31c3d35ac2",
       "version_major": 2,
       "version_minor": 0
      },
      "text/plain": [
       "  0%|          | 0/7 [00:00<?, ?ba/s]"
      ]
     },
     "metadata": {},
     "output_type": "display_data"
    },
    {
     "data": {
      "application/vnd.jupyter.widget-view+json": {
       "model_id": "abbfe63e322a4caeaa07d936c19e52ef",
       "version_major": 2,
       "version_minor": 0
      },
      "text/plain": [
       "  0%|          | 0/7 [00:00<?, ?ba/s]"
      ]
     },
     "metadata": {},
     "output_type": "display_data"
    }
   ],
   "source": [
    "tokenized_dataset = dataset.map(preprocess_function, batched=True)"
   ]
  },
  {
   "cell_type": "code",
   "execution_count": null,
   "id": "448b20e3",
   "metadata": {},
   "outputs": [],
   "source": []
  },
  {
   "cell_type": "code",
   "execution_count": 13,
   "id": "a2f31731",
   "metadata": {},
   "outputs": [
    {
     "data": {
      "text/plain": [
       "{'No Punc Title': 'atlanta | season 2 official trailer hd | fx',\n",
       " 'label': 0,\n",
       " 'input_ids': [101,\n",
       "  5865,\n",
       "  1064,\n",
       "  2161,\n",
       "  1016,\n",
       "  2880,\n",
       "  9117,\n",
       "  10751,\n",
       "  1064,\n",
       "  23292,\n",
       "  102,\n",
       "  0,\n",
       "  0,\n",
       "  0,\n",
       "  0,\n",
       "  0,\n",
       "  0,\n",
       "  0,\n",
       "  0,\n",
       "  0,\n",
       "  0,\n",
       "  0,\n",
       "  0,\n",
       "  0,\n",
       "  0,\n",
       "  0,\n",
       "  0,\n",
       "  0,\n",
       "  0,\n",
       "  0,\n",
       "  0,\n",
       "  0],\n",
       " 'token_type_ids': [0,\n",
       "  0,\n",
       "  0,\n",
       "  0,\n",
       "  0,\n",
       "  0,\n",
       "  0,\n",
       "  0,\n",
       "  0,\n",
       "  0,\n",
       "  0,\n",
       "  0,\n",
       "  0,\n",
       "  0,\n",
       "  0,\n",
       "  0,\n",
       "  0,\n",
       "  0,\n",
       "  0,\n",
       "  0,\n",
       "  0,\n",
       "  0,\n",
       "  0,\n",
       "  0,\n",
       "  0,\n",
       "  0,\n",
       "  0,\n",
       "  0,\n",
       "  0,\n",
       "  0,\n",
       "  0,\n",
       "  0],\n",
       " 'attention_mask': [1,\n",
       "  1,\n",
       "  1,\n",
       "  1,\n",
       "  1,\n",
       "  1,\n",
       "  1,\n",
       "  1,\n",
       "  1,\n",
       "  1,\n",
       "  1,\n",
       "  0,\n",
       "  0,\n",
       "  0,\n",
       "  0,\n",
       "  0,\n",
       "  0,\n",
       "  0,\n",
       "  0,\n",
       "  0,\n",
       "  0,\n",
       "  0,\n",
       "  0,\n",
       "  0,\n",
       "  0,\n",
       "  0,\n",
       "  0,\n",
       "  0,\n",
       "  0,\n",
       "  0,\n",
       "  0,\n",
       "  0]}"
      ]
     },
     "execution_count": 13,
     "metadata": {},
     "output_type": "execute_result"
    }
   ],
   "source": [
    "tokenized_dataset[\"test\"][0]"
   ]
  },
  {
   "cell_type": "code",
   "execution_count": 14,
   "id": "7ccf7ae5",
   "metadata": {},
   "outputs": [],
   "source": [
    "from transformers import DataCollatorWithPadding\n",
    "\n",
    "data_collator = DataCollatorWithPadding(tokenizer=tokenizer)"
   ]
  },
  {
   "cell_type": "code",
   "execution_count": 15,
   "id": "6731a81c",
   "metadata": {},
   "outputs": [
    {
     "data": {
      "text/plain": [
       "{'No Punc Title': 'atlanta | season 2 official trailer hd | fx',\n",
       " 'label': 0,\n",
       " 'input_ids': [101,\n",
       "  5865,\n",
       "  1064,\n",
       "  2161,\n",
       "  1016,\n",
       "  2880,\n",
       "  9117,\n",
       "  10751,\n",
       "  1064,\n",
       "  23292,\n",
       "  102,\n",
       "  0,\n",
       "  0,\n",
       "  0,\n",
       "  0,\n",
       "  0,\n",
       "  0,\n",
       "  0,\n",
       "  0,\n",
       "  0,\n",
       "  0,\n",
       "  0,\n",
       "  0,\n",
       "  0,\n",
       "  0,\n",
       "  0,\n",
       "  0,\n",
       "  0,\n",
       "  0,\n",
       "  0,\n",
       "  0,\n",
       "  0],\n",
       " 'token_type_ids': [0,\n",
       "  0,\n",
       "  0,\n",
       "  0,\n",
       "  0,\n",
       "  0,\n",
       "  0,\n",
       "  0,\n",
       "  0,\n",
       "  0,\n",
       "  0,\n",
       "  0,\n",
       "  0,\n",
       "  0,\n",
       "  0,\n",
       "  0,\n",
       "  0,\n",
       "  0,\n",
       "  0,\n",
       "  0,\n",
       "  0,\n",
       "  0,\n",
       "  0,\n",
       "  0,\n",
       "  0,\n",
       "  0,\n",
       "  0,\n",
       "  0,\n",
       "  0,\n",
       "  0,\n",
       "  0,\n",
       "  0],\n",
       " 'attention_mask': [1,\n",
       "  1,\n",
       "  1,\n",
       "  1,\n",
       "  1,\n",
       "  1,\n",
       "  1,\n",
       "  1,\n",
       "  1,\n",
       "  1,\n",
       "  1,\n",
       "  0,\n",
       "  0,\n",
       "  0,\n",
       "  0,\n",
       "  0,\n",
       "  0,\n",
       "  0,\n",
       "  0,\n",
       "  0,\n",
       "  0,\n",
       "  0,\n",
       "  0,\n",
       "  0,\n",
       "  0,\n",
       "  0,\n",
       "  0,\n",
       "  0,\n",
       "  0,\n",
       "  0,\n",
       "  0,\n",
       "  0]}"
      ]
     },
     "execution_count": 15,
     "metadata": {},
     "output_type": "execute_result"
    }
   ],
   "source": [
    "tokenized_dataset[\"test\"][0]"
   ]
  },
  {
   "cell_type": "code",
   "execution_count": 16,
   "id": "9aefeaa1",
   "metadata": {},
   "outputs": [
    {
     "name": "stdout",
     "output_type": "stream",
     "text": [
      "\n",
      "Copy-and-paste the text below in your GitHub issue and FILL OUT the two last points.\n",
      "\n",
      "- `transformers` version: 4.18.0\n",
      "- Platform: Windows-10-10.0.19041-SP0\n",
      "- Python version: 3.8.8\n",
      "- Huggingface_hub version: 0.5.1\n",
      "- PyTorch version (GPU?): 1.11.0+cu113 (False)\n",
      "- Tensorflow version (GPU?): not installed (NA)\n",
      "- Flax version (CPU?/GPU?/TPU?): not installed (NA)\n",
      "- Jax version: not installed\n",
      "- JaxLib version: not installed\n",
      "- Using GPU in script?: <fill in>\n",
      "- Using distributed or parallel set-up in script?: <fill in>\n",
      "\n"
     ]
    }
   ],
   "source": [
    "! transformers-cli env"
   ]
  },
  {
   "cell_type": "code",
   "execution_count": 17,
   "id": "41609a31",
   "metadata": {},
   "outputs": [],
   "source": [
    "def compute_metrics(p):\n",
    "  pred, labels = p\n",
    "  pred = np.argmax(pred,axis=1)\n",
    "  accuracy = accuracy_score(y_true = labels,y_pred =pred)\n",
    "  recall = recall_score(y_true = labels,y_pred =pred)\n",
    "  precision = precision_score(y_true = labels,y_pred =pred)\n",
    "  f1= f1_score(y_true = labels,y_pred =pred)\n",
    "  return { \"accuracy\": accuracy ,\"recall\": recall,\"precision\": precision,\"F1\":f1 }"
   ]
  },
  {
   "cell_type": "code",
   "execution_count": null,
   "id": "069c3a96",
   "metadata": {},
   "outputs": [],
   "source": []
  },
  {
   "cell_type": "code",
   "execution_count": null,
   "id": "509bd99d",
   "metadata": {
    "scrolled": true
   },
   "outputs": [
    {
     "name": "stderr",
     "output_type": "stream",
     "text": [
      "The following columns in the training set  don't have a corresponding argument in `DistilBertForSequenceClassification.forward` and have been ignored: No Punc Title, token_type_ids. If No Punc Title, token_type_ids are not expected by `DistilBertForSequenceClassification.forward`,  you can safely ignore this message.\n",
      "C:\\Users\\ddey4\\Anaconda3\\lib\\site-packages\\transformers\\optimization.py:306: FutureWarning: This implementation of AdamW is deprecated and will be removed in a future version. Use the PyTorch implementation torch.optim.AdamW instead, or set `no_deprecation_warning=True` to disable this warning\n",
      "  warnings.warn(\n",
      "***** Running training *****\n",
      "  Num examples = 51354\n",
      "  Num Epochs = 2\n",
      "  Instantaneous batch size per device = 16\n",
      "  Total train batch size (w. parallel, distributed & accumulation) = 16\n",
      "  Gradient Accumulation steps = 1\n",
      "  Total optimization steps = 6420\n"
     ]
    },
    {
     "data": {
      "text/html": [
       "\n",
       "    <div>\n",
       "      \n",
       "      <progress value='6075' max='6420' style='width:300px; height:20px; vertical-align: middle;'></progress>\n",
       "      [6075/6420 9:15:01 < 31:31, 0.18 it/s, Epoch 1.89/2]\n",
       "    </div>\n",
       "    <table border=\"1\" class=\"dataframe\">\n",
       "  <thead>\n",
       " <tr style=\"text-align: left;\">\n",
       "      <th>Step</th>\n",
       "      <th>Training Loss</th>\n",
       "      <th>Validation Loss</th>\n",
       "      <th>Accuracy</th>\n",
       "      <th>Recall</th>\n",
       "      <th>Precision</th>\n",
       "      <th>F1</th>\n",
       "    </tr>\n",
       "  </thead>\n",
       "  <tbody>\n",
       "    <tr>\n",
       "      <td>500</td>\n",
       "      <td>0.633400</td>\n",
       "      <td>0.581725</td>\n",
       "      <td>0.695280</td>\n",
       "      <td>0.676438</td>\n",
       "      <td>0.752484</td>\n",
       "      <td>0.712438</td>\n",
       "    </tr>\n",
       "    <tr>\n",
       "      <td>1000</td>\n",
       "      <td>0.560400</td>\n",
       "      <td>0.515908</td>\n",
       "      <td>0.756348</td>\n",
       "      <td>0.858180</td>\n",
       "      <td>0.744310</td>\n",
       "      <td>0.797199</td>\n",
       "    </tr>\n",
       "    <tr>\n",
       "      <td>1500</td>\n",
       "      <td>0.508100</td>\n",
       "      <td>0.462545</td>\n",
       "      <td>0.785948</td>\n",
       "      <td>0.819933</td>\n",
       "      <td>0.801146</td>\n",
       "      <td>0.810430</td>\n",
       "    </tr>\n",
       "    <tr>\n",
       "      <td>2000</td>\n",
       "      <td>0.460600</td>\n",
       "      <td>0.455950</td>\n",
       "      <td>0.795139</td>\n",
       "      <td>0.912898</td>\n",
       "      <td>0.765270</td>\n",
       "      <td>0.832591</td>\n",
       "    </tr>\n",
       "    <tr>\n",
       "      <td>2500</td>\n",
       "      <td>0.427700</td>\n",
       "      <td>0.423319</td>\n",
       "      <td>0.819910</td>\n",
       "      <td>0.913735</td>\n",
       "      <td>0.794417</td>\n",
       "      <td>0.849909</td>\n",
       "    </tr>\n",
       "    <tr>\n",
       "      <td>3000</td>\n",
       "      <td>0.407300</td>\n",
       "      <td>0.384966</td>\n",
       "      <td>0.840941</td>\n",
       "      <td>0.898939</td>\n",
       "      <td>0.830111</td>\n",
       "      <td>0.863155</td>\n",
       "    </tr>\n",
       "    <tr>\n",
       "      <td>3500</td>\n",
       "      <td>0.349100</td>\n",
       "      <td>0.383134</td>\n",
       "      <td>0.846238</td>\n",
       "      <td>0.900893</td>\n",
       "      <td>0.836227</td>\n",
       "      <td>0.867357</td>\n",
       "    </tr>\n",
       "    <tr>\n",
       "      <td>4000</td>\n",
       "      <td>0.309800</td>\n",
       "      <td>0.375086</td>\n",
       "      <td>0.853248</td>\n",
       "      <td>0.883864</td>\n",
       "      <td>0.857530</td>\n",
       "      <td>0.870498</td>\n",
       "    </tr>\n",
       "    <tr>\n",
       "      <td>4500</td>\n",
       "      <td>0.296300</td>\n",
       "      <td>0.374776</td>\n",
       "      <td>0.854027</td>\n",
       "      <td>0.912898</td>\n",
       "      <td>0.839538</td>\n",
       "      <td>0.874682</td>\n",
       "    </tr>\n",
       "    <tr>\n",
       "      <td>5000</td>\n",
       "      <td>0.289900</td>\n",
       "      <td>0.385359</td>\n",
       "      <td>0.853248</td>\n",
       "      <td>0.917644</td>\n",
       "      <td>0.835536</td>\n",
       "      <td>0.874667</td>\n",
       "    </tr>\n",
       "    <tr>\n",
       "      <td>5500</td>\n",
       "      <td>0.292200</td>\n",
       "      <td>0.367661</td>\n",
       "      <td>0.859947</td>\n",
       "      <td>0.906756</td>\n",
       "      <td>0.851823</td>\n",
       "      <td>0.878431</td>\n",
       "    </tr>\n",
       "    <tr>\n",
       "      <td>6000</td>\n",
       "      <td>0.287000</td>\n",
       "      <td>0.368982</td>\n",
       "      <td>0.864465</td>\n",
       "      <td>0.908710</td>\n",
       "      <td>0.857030</td>\n",
       "      <td>0.882114</td>\n",
       "    </tr>\n",
       "  </tbody>\n",
       "</table><p>"
      ],
      "text/plain": [
       "<IPython.core.display.HTML object>"
      ]
     },
     "metadata": {},
     "output_type": "display_data"
    },
    {
     "name": "stderr",
     "output_type": "stream",
     "text": [
      "The following columns in the evaluation set  don't have a corresponding argument in `DistilBertForSequenceClassification.forward` and have been ignored: No Punc Title, token_type_ids. If No Punc Title, token_type_ids are not expected by `DistilBertForSequenceClassification.forward`,  you can safely ignore this message.\n",
      "***** Running Evaluation *****\n",
      "  Num examples = 6419\n",
      "  Batch size = 16\n",
      "Saving model checkpoint to distilbert-youtube-2-wmetrics\\checkpoint-500\n",
      "Configuration saved in distilbert-youtube-2-wmetrics\\checkpoint-500\\config.json\n",
      "Model weights saved in distilbert-youtube-2-wmetrics\\checkpoint-500\\pytorch_model.bin\n",
      "tokenizer config file saved in distilbert-youtube-2-wmetrics\\checkpoint-500\\tokenizer_config.json\n",
      "Special tokens file saved in distilbert-youtube-2-wmetrics\\checkpoint-500\\special_tokens_map.json\n",
      "The following columns in the evaluation set  don't have a corresponding argument in `DistilBertForSequenceClassification.forward` and have been ignored: No Punc Title, token_type_ids. If No Punc Title, token_type_ids are not expected by `DistilBertForSequenceClassification.forward`,  you can safely ignore this message.\n",
      "***** Running Evaluation *****\n",
      "  Num examples = 6419\n",
      "  Batch size = 16\n",
      "Saving model checkpoint to distilbert-youtube-2-wmetrics\\checkpoint-1000\n",
      "Configuration saved in distilbert-youtube-2-wmetrics\\checkpoint-1000\\config.json\n",
      "Model weights saved in distilbert-youtube-2-wmetrics\\checkpoint-1000\\pytorch_model.bin\n",
      "tokenizer config file saved in distilbert-youtube-2-wmetrics\\checkpoint-1000\\tokenizer_config.json\n",
      "Special tokens file saved in distilbert-youtube-2-wmetrics\\checkpoint-1000\\special_tokens_map.json\n",
      "The following columns in the evaluation set  don't have a corresponding argument in `DistilBertForSequenceClassification.forward` and have been ignored: No Punc Title, token_type_ids. If No Punc Title, token_type_ids are not expected by `DistilBertForSequenceClassification.forward`,  you can safely ignore this message.\n",
      "***** Running Evaluation *****\n",
      "  Num examples = 6419\n",
      "  Batch size = 16\n",
      "Saving model checkpoint to distilbert-youtube-2-wmetrics\\checkpoint-1500\n",
      "Configuration saved in distilbert-youtube-2-wmetrics\\checkpoint-1500\\config.json\n",
      "Model weights saved in distilbert-youtube-2-wmetrics\\checkpoint-1500\\pytorch_model.bin\n",
      "tokenizer config file saved in distilbert-youtube-2-wmetrics\\checkpoint-1500\\tokenizer_config.json\n",
      "Special tokens file saved in distilbert-youtube-2-wmetrics\\checkpoint-1500\\special_tokens_map.json\n",
      "The following columns in the evaluation set  don't have a corresponding argument in `DistilBertForSequenceClassification.forward` and have been ignored: No Punc Title, token_type_ids. If No Punc Title, token_type_ids are not expected by `DistilBertForSequenceClassification.forward`,  you can safely ignore this message.\n",
      "***** Running Evaluation *****\n",
      "  Num examples = 6419\n",
      "  Batch size = 16\n",
      "Saving model checkpoint to distilbert-youtube-2-wmetrics\\checkpoint-2000\n",
      "Configuration saved in distilbert-youtube-2-wmetrics\\checkpoint-2000\\config.json\n",
      "Model weights saved in distilbert-youtube-2-wmetrics\\checkpoint-2000\\pytorch_model.bin\n",
      "tokenizer config file saved in distilbert-youtube-2-wmetrics\\checkpoint-2000\\tokenizer_config.json\n",
      "Special tokens file saved in distilbert-youtube-2-wmetrics\\checkpoint-2000\\special_tokens_map.json\n",
      "The following columns in the evaluation set  don't have a corresponding argument in `DistilBertForSequenceClassification.forward` and have been ignored: No Punc Title, token_type_ids. If No Punc Title, token_type_ids are not expected by `DistilBertForSequenceClassification.forward`,  you can safely ignore this message.\n",
      "***** Running Evaluation *****\n",
      "  Num examples = 6419\n",
      "  Batch size = 16\n",
      "Saving model checkpoint to distilbert-youtube-2-wmetrics\\checkpoint-2500\n",
      "Configuration saved in distilbert-youtube-2-wmetrics\\checkpoint-2500\\config.json\n",
      "Model weights saved in distilbert-youtube-2-wmetrics\\checkpoint-2500\\pytorch_model.bin\n",
      "tokenizer config file saved in distilbert-youtube-2-wmetrics\\checkpoint-2500\\tokenizer_config.json\n",
      "Special tokens file saved in distilbert-youtube-2-wmetrics\\checkpoint-2500\\special_tokens_map.json\n",
      "The following columns in the evaluation set  don't have a corresponding argument in `DistilBertForSequenceClassification.forward` and have been ignored: No Punc Title, token_type_ids. If No Punc Title, token_type_ids are not expected by `DistilBertForSequenceClassification.forward`,  you can safely ignore this message.\n",
      "***** Running Evaluation *****\n",
      "  Num examples = 6419\n",
      "  Batch size = 16\n",
      "Saving model checkpoint to distilbert-youtube-2-wmetrics\\checkpoint-3000\n",
      "Configuration saved in distilbert-youtube-2-wmetrics\\checkpoint-3000\\config.json\n",
      "Model weights saved in distilbert-youtube-2-wmetrics\\checkpoint-3000\\pytorch_model.bin\n",
      "tokenizer config file saved in distilbert-youtube-2-wmetrics\\checkpoint-3000\\tokenizer_config.json\n",
      "Special tokens file saved in distilbert-youtube-2-wmetrics\\checkpoint-3000\\special_tokens_map.json\n",
      "The following columns in the evaluation set  don't have a corresponding argument in `DistilBertForSequenceClassification.forward` and have been ignored: No Punc Title, token_type_ids. If No Punc Title, token_type_ids are not expected by `DistilBertForSequenceClassification.forward`,  you can safely ignore this message.\n",
      "***** Running Evaluation *****\n",
      "  Num examples = 6419\n",
      "  Batch size = 16\n",
      "Saving model checkpoint to distilbert-youtube-2-wmetrics\\checkpoint-3500\n",
      "Configuration saved in distilbert-youtube-2-wmetrics\\checkpoint-3500\\config.json\n",
      "Model weights saved in distilbert-youtube-2-wmetrics\\checkpoint-3500\\pytorch_model.bin\n",
      "tokenizer config file saved in distilbert-youtube-2-wmetrics\\checkpoint-3500\\tokenizer_config.json\n",
      "Special tokens file saved in distilbert-youtube-2-wmetrics\\checkpoint-3500\\special_tokens_map.json\n",
      "The following columns in the evaluation set  don't have a corresponding argument in `DistilBertForSequenceClassification.forward` and have been ignored: No Punc Title, token_type_ids. If No Punc Title, token_type_ids are not expected by `DistilBertForSequenceClassification.forward`,  you can safely ignore this message.\n",
      "***** Running Evaluation *****\n",
      "  Num examples = 6419\n",
      "  Batch size = 16\n",
      "Saving model checkpoint to distilbert-youtube-2-wmetrics\\checkpoint-4000\n",
      "Configuration saved in distilbert-youtube-2-wmetrics\\checkpoint-4000\\config.json\n",
      "Model weights saved in distilbert-youtube-2-wmetrics\\checkpoint-4000\\pytorch_model.bin\n",
      "tokenizer config file saved in distilbert-youtube-2-wmetrics\\checkpoint-4000\\tokenizer_config.json\n",
      "Special tokens file saved in distilbert-youtube-2-wmetrics\\checkpoint-4000\\special_tokens_map.json\n",
      "The following columns in the evaluation set  don't have a corresponding argument in `DistilBertForSequenceClassification.forward` and have been ignored: No Punc Title, token_type_ids. If No Punc Title, token_type_ids are not expected by `DistilBertForSequenceClassification.forward`,  you can safely ignore this message.\n",
      "***** Running Evaluation *****\n",
      "  Num examples = 6419\n",
      "  Batch size = 16\n",
      "Saving model checkpoint to distilbert-youtube-2-wmetrics\\checkpoint-4500\n",
      "Configuration saved in distilbert-youtube-2-wmetrics\\checkpoint-4500\\config.json\n",
      "Model weights saved in distilbert-youtube-2-wmetrics\\checkpoint-4500\\pytorch_model.bin\n",
      "tokenizer config file saved in distilbert-youtube-2-wmetrics\\checkpoint-4500\\tokenizer_config.json\n",
      "Special tokens file saved in distilbert-youtube-2-wmetrics\\checkpoint-4500\\special_tokens_map.json\n",
      "The following columns in the evaluation set  don't have a corresponding argument in `DistilBertForSequenceClassification.forward` and have been ignored: No Punc Title, token_type_ids. If No Punc Title, token_type_ids are not expected by `DistilBertForSequenceClassification.forward`,  you can safely ignore this message.\n",
      "***** Running Evaluation *****\n",
      "  Num examples = 6419\n",
      "  Batch size = 16\n",
      "Saving model checkpoint to distilbert-youtube-2-wmetrics\\checkpoint-5000\n",
      "Configuration saved in distilbert-youtube-2-wmetrics\\checkpoint-5000\\config.json\n",
      "Model weights saved in distilbert-youtube-2-wmetrics\\checkpoint-5000\\pytorch_model.bin\n",
      "tokenizer config file saved in distilbert-youtube-2-wmetrics\\checkpoint-5000\\tokenizer_config.json\n"
     ]
    },
    {
     "name": "stderr",
     "output_type": "stream",
     "text": [
      "Special tokens file saved in distilbert-youtube-2-wmetrics\\checkpoint-5000\\special_tokens_map.json\n",
      "The following columns in the evaluation set  don't have a corresponding argument in `DistilBertForSequenceClassification.forward` and have been ignored: No Punc Title, token_type_ids. If No Punc Title, token_type_ids are not expected by `DistilBertForSequenceClassification.forward`,  you can safely ignore this message.\n",
      "***** Running Evaluation *****\n",
      "  Num examples = 6419\n",
      "  Batch size = 16\n",
      "Saving model checkpoint to distilbert-youtube-2-wmetrics\\checkpoint-5500\n",
      "Configuration saved in distilbert-youtube-2-wmetrics\\checkpoint-5500\\config.json\n",
      "Model weights saved in distilbert-youtube-2-wmetrics\\checkpoint-5500\\pytorch_model.bin\n",
      "tokenizer config file saved in distilbert-youtube-2-wmetrics\\checkpoint-5500\\tokenizer_config.json\n",
      "Special tokens file saved in distilbert-youtube-2-wmetrics\\checkpoint-5500\\special_tokens_map.json\n",
      "The following columns in the evaluation set  don't have a corresponding argument in `DistilBertForSequenceClassification.forward` and have been ignored: No Punc Title, token_type_ids. If No Punc Title, token_type_ids are not expected by `DistilBertForSequenceClassification.forward`,  you can safely ignore this message.\n",
      "***** Running Evaluation *****\n",
      "  Num examples = 6419\n",
      "  Batch size = 16\n",
      "Saving model checkpoint to distilbert-youtube-2-wmetrics\\checkpoint-6000\n",
      "Configuration saved in distilbert-youtube-2-wmetrics\\checkpoint-6000\\config.json\n",
      "Model weights saved in distilbert-youtube-2-wmetrics\\checkpoint-6000\\pytorch_model.bin\n",
      "tokenizer config file saved in distilbert-youtube-2-wmetrics\\checkpoint-6000\\tokenizer_config.json\n",
      "Special tokens file saved in distilbert-youtube-2-wmetrics\\checkpoint-6000\\special_tokens_map.json\n"
     ]
    }
   ],
   "source": [
    "training_args = TrainingArguments(\n",
    "    output_dir=\"distilbert-youtube-2-wmetrics\",\n",
    "    learning_rate=2e-5,\n",
    "    evaluation_strategy= \"steps\",\n",
    "    eval_steps = 500,\n",
    "    per_device_train_batch_size=16,\n",
    "    per_device_eval_batch_size=16,\n",
    "    num_train_epochs=2,\n",
    "    weight_decay=0.01,\n",
    "    load_best_model_at_end=True,\n",
    ")\n",
    "\n",
    "trainer = Trainer(\n",
    "    model=model,\n",
    "    args=training_args,\n",
    "    train_dataset=tokenized_dataset[\"train\"],\n",
    "    eval_dataset=tokenized_dataset[\"valid\"],\n",
    "    tokenizer=tokenizer,\n",
    "    data_collator=data_collator,\n",
    "    compute_metrics = compute_metrics,\n",
    ")\n",
    "\n",
    "trainer.train()"
   ]
  },
  {
   "cell_type": "code",
   "execution_count": 18,
   "id": "e03c28b2",
   "metadata": {
    "scrolled": true
   },
   "outputs": [
    {
     "name": "stderr",
     "output_type": "stream",
     "text": [
      "The following columns in the training set  don't have a corresponding argument in `DistilBertForSequenceClassification.forward` and have been ignored: No Punc Title, token_type_ids. If No Punc Title, token_type_ids are not expected by `DistilBertForSequenceClassification.forward`,  you can safely ignore this message.\n",
      "C:\\Users\\ddey4\\Anaconda3\\lib\\site-packages\\transformers\\optimization.py:306: FutureWarning: This implementation of AdamW is deprecated and will be removed in a future version. Use the PyTorch implementation torch.optim.AdamW instead, or set `no_deprecation_warning=True` to disable this warning\n",
      "  warnings.warn(\n",
      "***** Running training *****\n",
      "  Num examples = 51354\n",
      "  Num Epochs = 2\n",
      "  Instantaneous batch size per device = 16\n",
      "  Total train batch size (w. parallel, distributed & accumulation) = 16\n",
      "  Gradient Accumulation steps = 1\n",
      "  Total optimization steps = 6420\n"
     ]
    },
    {
     "data": {
      "text/html": [
       "\n",
       "    <div>\n",
       "      \n",
       "      <progress value='6420' max='6420' style='width:300px; height:20px; vertical-align: middle;'></progress>\n",
       "      [6420/6420 9:40:50, Epoch 2/2]\n",
       "    </div>\n",
       "    <table border=\"1\" class=\"dataframe\">\n",
       "  <thead>\n",
       " <tr style=\"text-align: left;\">\n",
       "      <th>Step</th>\n",
       "      <th>Training Loss</th>\n",
       "      <th>Validation Loss</th>\n",
       "      <th>Accuracy</th>\n",
       "      <th>Recall</th>\n",
       "      <th>Precision</th>\n",
       "      <th>F1</th>\n",
       "    </tr>\n",
       "  </thead>\n",
       "  <tbody>\n",
       "    <tr>\n",
       "      <td>500</td>\n",
       "      <td>0.633400</td>\n",
       "      <td>0.581725</td>\n",
       "      <td>0.695280</td>\n",
       "      <td>0.676438</td>\n",
       "      <td>0.752484</td>\n",
       "      <td>0.712438</td>\n",
       "    </tr>\n",
       "    <tr>\n",
       "      <td>1000</td>\n",
       "      <td>0.560400</td>\n",
       "      <td>0.515908</td>\n",
       "      <td>0.756348</td>\n",
       "      <td>0.858180</td>\n",
       "      <td>0.744310</td>\n",
       "      <td>0.797199</td>\n",
       "    </tr>\n",
       "    <tr>\n",
       "      <td>1500</td>\n",
       "      <td>0.508100</td>\n",
       "      <td>0.462545</td>\n",
       "      <td>0.785948</td>\n",
       "      <td>0.819933</td>\n",
       "      <td>0.801146</td>\n",
       "      <td>0.810430</td>\n",
       "    </tr>\n",
       "    <tr>\n",
       "      <td>2000</td>\n",
       "      <td>0.460600</td>\n",
       "      <td>0.455950</td>\n",
       "      <td>0.795139</td>\n",
       "      <td>0.912898</td>\n",
       "      <td>0.765270</td>\n",
       "      <td>0.832591</td>\n",
       "    </tr>\n",
       "    <tr>\n",
       "      <td>2500</td>\n",
       "      <td>0.427700</td>\n",
       "      <td>0.423319</td>\n",
       "      <td>0.819910</td>\n",
       "      <td>0.913735</td>\n",
       "      <td>0.794417</td>\n",
       "      <td>0.849909</td>\n",
       "    </tr>\n",
       "    <tr>\n",
       "      <td>3000</td>\n",
       "      <td>0.407300</td>\n",
       "      <td>0.384966</td>\n",
       "      <td>0.840941</td>\n",
       "      <td>0.898939</td>\n",
       "      <td>0.830111</td>\n",
       "      <td>0.863155</td>\n",
       "    </tr>\n",
       "    <tr>\n",
       "      <td>3500</td>\n",
       "      <td>0.349100</td>\n",
       "      <td>0.383134</td>\n",
       "      <td>0.846238</td>\n",
       "      <td>0.900893</td>\n",
       "      <td>0.836227</td>\n",
       "      <td>0.867357</td>\n",
       "    </tr>\n",
       "    <tr>\n",
       "      <td>4000</td>\n",
       "      <td>0.309800</td>\n",
       "      <td>0.375086</td>\n",
       "      <td>0.853248</td>\n",
       "      <td>0.883864</td>\n",
       "      <td>0.857530</td>\n",
       "      <td>0.870498</td>\n",
       "    </tr>\n",
       "    <tr>\n",
       "      <td>4500</td>\n",
       "      <td>0.296300</td>\n",
       "      <td>0.374776</td>\n",
       "      <td>0.854027</td>\n",
       "      <td>0.912898</td>\n",
       "      <td>0.839538</td>\n",
       "      <td>0.874682</td>\n",
       "    </tr>\n",
       "    <tr>\n",
       "      <td>5000</td>\n",
       "      <td>0.289900</td>\n",
       "      <td>0.385359</td>\n",
       "      <td>0.853248</td>\n",
       "      <td>0.917644</td>\n",
       "      <td>0.835536</td>\n",
       "      <td>0.874667</td>\n",
       "    </tr>\n",
       "    <tr>\n",
       "      <td>5500</td>\n",
       "      <td>0.292200</td>\n",
       "      <td>0.367661</td>\n",
       "      <td>0.859947</td>\n",
       "      <td>0.906756</td>\n",
       "      <td>0.851823</td>\n",
       "      <td>0.878431</td>\n",
       "    </tr>\n",
       "    <tr>\n",
       "      <td>6000</td>\n",
       "      <td>0.287000</td>\n",
       "      <td>0.368982</td>\n",
       "      <td>0.864465</td>\n",
       "      <td>0.908710</td>\n",
       "      <td>0.857030</td>\n",
       "      <td>0.882114</td>\n",
       "    </tr>\n",
       "  </tbody>\n",
       "</table><p>"
      ],
      "text/plain": [
       "<IPython.core.display.HTML object>"
      ]
     },
     "metadata": {},
     "output_type": "display_data"
    },
    {
     "name": "stderr",
     "output_type": "stream",
     "text": [
      "The following columns in the evaluation set  don't have a corresponding argument in `DistilBertForSequenceClassification.forward` and have been ignored: No Punc Title, token_type_ids. If No Punc Title, token_type_ids are not expected by `DistilBertForSequenceClassification.forward`,  you can safely ignore this message.\n",
      "***** Running Evaluation *****\n",
      "  Num examples = 6419\n",
      "  Batch size = 16\n",
      "Saving model checkpoint to distilbert-youtube-2-wmetrics\\checkpoint-500\n",
      "Configuration saved in distilbert-youtube-2-wmetrics\\checkpoint-500\\config.json\n",
      "Model weights saved in distilbert-youtube-2-wmetrics\\checkpoint-500\\pytorch_model.bin\n",
      "tokenizer config file saved in distilbert-youtube-2-wmetrics\\checkpoint-500\\tokenizer_config.json\n",
      "Special tokens file saved in distilbert-youtube-2-wmetrics\\checkpoint-500\\special_tokens_map.json\n",
      "The following columns in the evaluation set  don't have a corresponding argument in `DistilBertForSequenceClassification.forward` and have been ignored: No Punc Title, token_type_ids. If No Punc Title, token_type_ids are not expected by `DistilBertForSequenceClassification.forward`,  you can safely ignore this message.\n",
      "***** Running Evaluation *****\n",
      "  Num examples = 6419\n",
      "  Batch size = 16\n",
      "Saving model checkpoint to distilbert-youtube-2-wmetrics\\checkpoint-1000\n",
      "Configuration saved in distilbert-youtube-2-wmetrics\\checkpoint-1000\\config.json\n",
      "Model weights saved in distilbert-youtube-2-wmetrics\\checkpoint-1000\\pytorch_model.bin\n",
      "tokenizer config file saved in distilbert-youtube-2-wmetrics\\checkpoint-1000\\tokenizer_config.json\n",
      "Special tokens file saved in distilbert-youtube-2-wmetrics\\checkpoint-1000\\special_tokens_map.json\n",
      "The following columns in the evaluation set  don't have a corresponding argument in `DistilBertForSequenceClassification.forward` and have been ignored: No Punc Title, token_type_ids. If No Punc Title, token_type_ids are not expected by `DistilBertForSequenceClassification.forward`,  you can safely ignore this message.\n",
      "***** Running Evaluation *****\n",
      "  Num examples = 6419\n",
      "  Batch size = 16\n",
      "Saving model checkpoint to distilbert-youtube-2-wmetrics\\checkpoint-1500\n",
      "Configuration saved in distilbert-youtube-2-wmetrics\\checkpoint-1500\\config.json\n",
      "Model weights saved in distilbert-youtube-2-wmetrics\\checkpoint-1500\\pytorch_model.bin\n",
      "tokenizer config file saved in distilbert-youtube-2-wmetrics\\checkpoint-1500\\tokenizer_config.json\n",
      "Special tokens file saved in distilbert-youtube-2-wmetrics\\checkpoint-1500\\special_tokens_map.json\n",
      "The following columns in the evaluation set  don't have a corresponding argument in `DistilBertForSequenceClassification.forward` and have been ignored: No Punc Title, token_type_ids. If No Punc Title, token_type_ids are not expected by `DistilBertForSequenceClassification.forward`,  you can safely ignore this message.\n",
      "***** Running Evaluation *****\n",
      "  Num examples = 6419\n",
      "  Batch size = 16\n",
      "Saving model checkpoint to distilbert-youtube-2-wmetrics\\checkpoint-2000\n",
      "Configuration saved in distilbert-youtube-2-wmetrics\\checkpoint-2000\\config.json\n",
      "Model weights saved in distilbert-youtube-2-wmetrics\\checkpoint-2000\\pytorch_model.bin\n",
      "tokenizer config file saved in distilbert-youtube-2-wmetrics\\checkpoint-2000\\tokenizer_config.json\n",
      "Special tokens file saved in distilbert-youtube-2-wmetrics\\checkpoint-2000\\special_tokens_map.json\n",
      "The following columns in the evaluation set  don't have a corresponding argument in `DistilBertForSequenceClassification.forward` and have been ignored: No Punc Title, token_type_ids. If No Punc Title, token_type_ids are not expected by `DistilBertForSequenceClassification.forward`,  you can safely ignore this message.\n",
      "***** Running Evaluation *****\n",
      "  Num examples = 6419\n",
      "  Batch size = 16\n",
      "Saving model checkpoint to distilbert-youtube-2-wmetrics\\checkpoint-2500\n",
      "Configuration saved in distilbert-youtube-2-wmetrics\\checkpoint-2500\\config.json\n",
      "Model weights saved in distilbert-youtube-2-wmetrics\\checkpoint-2500\\pytorch_model.bin\n",
      "tokenizer config file saved in distilbert-youtube-2-wmetrics\\checkpoint-2500\\tokenizer_config.json\n",
      "Special tokens file saved in distilbert-youtube-2-wmetrics\\checkpoint-2500\\special_tokens_map.json\n",
      "The following columns in the evaluation set  don't have a corresponding argument in `DistilBertForSequenceClassification.forward` and have been ignored: No Punc Title, token_type_ids. If No Punc Title, token_type_ids are not expected by `DistilBertForSequenceClassification.forward`,  you can safely ignore this message.\n",
      "***** Running Evaluation *****\n",
      "  Num examples = 6419\n",
      "  Batch size = 16\n",
      "Saving model checkpoint to distilbert-youtube-2-wmetrics\\checkpoint-3000\n",
      "Configuration saved in distilbert-youtube-2-wmetrics\\checkpoint-3000\\config.json\n",
      "Model weights saved in distilbert-youtube-2-wmetrics\\checkpoint-3000\\pytorch_model.bin\n",
      "tokenizer config file saved in distilbert-youtube-2-wmetrics\\checkpoint-3000\\tokenizer_config.json\n",
      "Special tokens file saved in distilbert-youtube-2-wmetrics\\checkpoint-3000\\special_tokens_map.json\n",
      "The following columns in the evaluation set  don't have a corresponding argument in `DistilBertForSequenceClassification.forward` and have been ignored: No Punc Title, token_type_ids. If No Punc Title, token_type_ids are not expected by `DistilBertForSequenceClassification.forward`,  you can safely ignore this message.\n",
      "***** Running Evaluation *****\n",
      "  Num examples = 6419\n",
      "  Batch size = 16\n",
      "Saving model checkpoint to distilbert-youtube-2-wmetrics\\checkpoint-3500\n",
      "Configuration saved in distilbert-youtube-2-wmetrics\\checkpoint-3500\\config.json\n",
      "Model weights saved in distilbert-youtube-2-wmetrics\\checkpoint-3500\\pytorch_model.bin\n",
      "tokenizer config file saved in distilbert-youtube-2-wmetrics\\checkpoint-3500\\tokenizer_config.json\n",
      "Special tokens file saved in distilbert-youtube-2-wmetrics\\checkpoint-3500\\special_tokens_map.json\n",
      "The following columns in the evaluation set  don't have a corresponding argument in `DistilBertForSequenceClassification.forward` and have been ignored: No Punc Title, token_type_ids. If No Punc Title, token_type_ids are not expected by `DistilBertForSequenceClassification.forward`,  you can safely ignore this message.\n",
      "***** Running Evaluation *****\n",
      "  Num examples = 6419\n",
      "  Batch size = 16\n",
      "Saving model checkpoint to distilbert-youtube-2-wmetrics\\checkpoint-4000\n",
      "Configuration saved in distilbert-youtube-2-wmetrics\\checkpoint-4000\\config.json\n",
      "Model weights saved in distilbert-youtube-2-wmetrics\\checkpoint-4000\\pytorch_model.bin\n",
      "tokenizer config file saved in distilbert-youtube-2-wmetrics\\checkpoint-4000\\tokenizer_config.json\n",
      "Special tokens file saved in distilbert-youtube-2-wmetrics\\checkpoint-4000\\special_tokens_map.json\n",
      "The following columns in the evaluation set  don't have a corresponding argument in `DistilBertForSequenceClassification.forward` and have been ignored: No Punc Title, token_type_ids. If No Punc Title, token_type_ids are not expected by `DistilBertForSequenceClassification.forward`,  you can safely ignore this message.\n",
      "***** Running Evaluation *****\n",
      "  Num examples = 6419\n",
      "  Batch size = 16\n",
      "Saving model checkpoint to distilbert-youtube-2-wmetrics\\checkpoint-4500\n",
      "Configuration saved in distilbert-youtube-2-wmetrics\\checkpoint-4500\\config.json\n",
      "Model weights saved in distilbert-youtube-2-wmetrics\\checkpoint-4500\\pytorch_model.bin\n",
      "tokenizer config file saved in distilbert-youtube-2-wmetrics\\checkpoint-4500\\tokenizer_config.json\n",
      "Special tokens file saved in distilbert-youtube-2-wmetrics\\checkpoint-4500\\special_tokens_map.json\n",
      "The following columns in the evaluation set  don't have a corresponding argument in `DistilBertForSequenceClassification.forward` and have been ignored: No Punc Title, token_type_ids. If No Punc Title, token_type_ids are not expected by `DistilBertForSequenceClassification.forward`,  you can safely ignore this message.\n",
      "***** Running Evaluation *****\n",
      "  Num examples = 6419\n",
      "  Batch size = 16\n",
      "Saving model checkpoint to distilbert-youtube-2-wmetrics\\checkpoint-5000\n",
      "Configuration saved in distilbert-youtube-2-wmetrics\\checkpoint-5000\\config.json\n",
      "Model weights saved in distilbert-youtube-2-wmetrics\\checkpoint-5000\\pytorch_model.bin\n",
      "tokenizer config file saved in distilbert-youtube-2-wmetrics\\checkpoint-5000\\tokenizer_config.json\n"
     ]
    },
    {
     "name": "stderr",
     "output_type": "stream",
     "text": [
      "Special tokens file saved in distilbert-youtube-2-wmetrics\\checkpoint-5000\\special_tokens_map.json\n",
      "The following columns in the evaluation set  don't have a corresponding argument in `DistilBertForSequenceClassification.forward` and have been ignored: No Punc Title, token_type_ids. If No Punc Title, token_type_ids are not expected by `DistilBertForSequenceClassification.forward`,  you can safely ignore this message.\n",
      "***** Running Evaluation *****\n",
      "  Num examples = 6419\n",
      "  Batch size = 16\n",
      "Saving model checkpoint to distilbert-youtube-2-wmetrics\\checkpoint-5500\n",
      "Configuration saved in distilbert-youtube-2-wmetrics\\checkpoint-5500\\config.json\n",
      "Model weights saved in distilbert-youtube-2-wmetrics\\checkpoint-5500\\pytorch_model.bin\n",
      "tokenizer config file saved in distilbert-youtube-2-wmetrics\\checkpoint-5500\\tokenizer_config.json\n",
      "Special tokens file saved in distilbert-youtube-2-wmetrics\\checkpoint-5500\\special_tokens_map.json\n",
      "The following columns in the evaluation set  don't have a corresponding argument in `DistilBertForSequenceClassification.forward` and have been ignored: No Punc Title, token_type_ids. If No Punc Title, token_type_ids are not expected by `DistilBertForSequenceClassification.forward`,  you can safely ignore this message.\n",
      "***** Running Evaluation *****\n",
      "  Num examples = 6419\n",
      "  Batch size = 16\n",
      "Saving model checkpoint to distilbert-youtube-2-wmetrics\\checkpoint-6000\n",
      "Configuration saved in distilbert-youtube-2-wmetrics\\checkpoint-6000\\config.json\n",
      "Model weights saved in distilbert-youtube-2-wmetrics\\checkpoint-6000\\pytorch_model.bin\n",
      "tokenizer config file saved in distilbert-youtube-2-wmetrics\\checkpoint-6000\\tokenizer_config.json\n",
      "Special tokens file saved in distilbert-youtube-2-wmetrics\\checkpoint-6000\\special_tokens_map.json\n",
      "\n",
      "\n",
      "Training completed. Do not forget to share your model on huggingface.co/models =)\n",
      "\n",
      "\n",
      "Loading best model from distilbert-youtube-2-wmetrics\\checkpoint-5500 (score: 0.3676605820655823).\n"
     ]
    },
    {
     "data": {
      "text/plain": [
       "TrainOutput(global_step=6420, training_loss=0.3928717699377708, metrics={'train_runtime': 34858.4571, 'train_samples_per_second': 2.946, 'train_steps_per_second': 0.184, 'total_flos': 1426087611795912.0, 'train_loss': 0.3928717699377708, 'epoch': 2.0})"
      ]
     },
     "execution_count": 18,
     "metadata": {},
     "output_type": "execute_result"
    }
   ],
   "source": [
    "training_args = TrainingArguments(\n",
    "    output_dir=\"distilbert-youtube-2-wmetrics\",\n",
    "    learning_rate=2e-5,\n",
    "    evaluation_strategy= \"steps\",\n",
    "    eval_steps = 500,\n",
    "    per_device_train_batch_size=16,\n",
    "    per_device_eval_batch_size=16,\n",
    "    num_train_epochs=2,\n",
    "    weight_decay=0.01,\n",
    "    load_best_model_at_end=True,\n",
    ")\n",
    "\n",
    "trainer = Trainer(\n",
    "    model=model,\n",
    "    args=training_args,\n",
    "    train_dataset=tokenized_dataset[\"train\"],\n",
    "    eval_dataset=tokenized_dataset[\"valid\"],\n",
    "    tokenizer=tokenizer,\n",
    "    data_collator=data_collator,\n",
    "    compute_metrics = compute_metrics,\n",
    ")\n",
    "\n",
    "trainer.train()"
   ]
  },
  {
   "cell_type": "code",
   "execution_count": 21,
   "id": "0b7313df",
   "metadata": {},
   "outputs": [],
   "source": [
    "x= [500,1000,1500,2000,2500,3000,3500,4000,4500,5000,5500,6000]\n",
    "tloss = [ 0.633400, 0.560400 ,0.508100 , 0.460600, 0.427700, 0.407300 , 0.349100 ,0.309800, 0.296300, 0.289900,0.292200 ,0.287000]\n",
    "vloss =[0.581725, 0.515908 , 0.462545 , 0.455950 , 0.423319 , 0.384966, 0.383134 , 0.375086  ,0.374776 , 0.385359 , 0.367661, 0.368982]"
   ]
  },
  {
   "cell_type": "code",
   "execution_count": 22,
   "id": "54dc0c11",
   "metadata": {},
   "outputs": [
    {
     "data": {
      "image/png": "[encoded data removed]",
      "text/plain": [
       "<Figure size 432x288 with 1 Axes>"
      ]
     },
     "metadata": {
      "needs_background": "light"
     },
     "output_type": "display_data"
    }
   ],
   "source": [
    "import matplotlib.pyplot as plt\n",
    "plt.plot(x,tloss,label=\"Train loss\") #Plotting training loss valies manually logged above \n",
    "plt.plot(x,vloss,label=\"Valid loss\") #Plotting Validation loss valies manually logged above\n",
    "plt.legend()\n",
    "plt.show()"
   ]
  },
  {
   "cell_type": "code",
   "execution_count": 23,
   "id": "82c04627",
   "metadata": {},
   "outputs": [],
   "source": [
    "#trainer.push_to_hub(\"End of training\")"
   ]
  },
  {
   "cell_type": "code",
   "execution_count": 24,
   "id": "c25a8959",
   "metadata": {},
   "outputs": [
    {
     "name": "stderr",
     "output_type": "stream",
     "text": [
      "The following columns in the test set  don't have a corresponding argument in `DistilBertForSequenceClassification.forward` and have been ignored: No Punc Title, token_type_ids. If No Punc Title, token_type_ids are not expected by `DistilBertForSequenceClassification.forward`,  you can safely ignore this message.\n",
      "***** Running Prediction *****\n",
      "  Num examples = 6420\n",
      "  Batch size = 16\n"
     ]
    },
    {
     "data": {
      "text/html": [
       "\n",
       "    <div>\n",
       "      \n",
       "      <progress value='402' max='402' style='width:300px; height:20px; vertical-align: middle;'></progress>\n",
       "      [402/402 05:41]\n",
       "    </div>\n",
       "    "
      ],
      "text/plain": [
       "<IPython.core.display.HTML object>"
      ]
     },
     "metadata": {},
     "output_type": "display_data"
    }
   ],
   "source": [
    "# ----- 3. Predict -----#\n",
    "# Load test data\n",
    "# tokenized_dataset[\"valid\"] - incorrectly used test before hence validation here \n",
    "\n",
    "# Load trained model\n",
    "#model_path = \"output/checkpoint-50000\"\n",
    "#model = BertForSequenceClassification.from_pretrained(model_path, num_labels=2)\n",
    "\n",
    "# Define test trainer\n",
    "#test_trainer = Trainer(model)\n",
    "\n",
    "# Make prediction\n",
    "raw_pred,_,_ = trainer.predict(tokenized_dataset[\"test\"])\n",
    "\n",
    "# Preprocess raw predictions\n",
    "y_pred2 = np.argmax(raw_pred, axis=1)\n",
    "y_test = tokenized_dataset[\"test\"][\"label\"]"
   ]
  },
  {
   "cell_type": "code",
   "execution_count": 25,
   "id": "0a2dbecf",
   "metadata": {},
   "outputs": [
    {
     "name": "stdout",
     "output_type": "stream",
     "text": [
      "Accuracy  86.51090342679127\n",
      "F1 Score  88.31939573779337\n"
     ]
    }
   ],
   "source": [
    "from sklearn import metrics\n",
    "from sklearn.metrics import confusion_matrix\n",
    "import seaborn as sns\n",
    "\n",
    "import matplotlib.pyplot as plt\n",
    "\n",
    "# Metrics\n",
    "print(\"Accuracy \",metrics.accuracy_score(y_test, y_pred2)*100)\n",
    "print(\"F1 Score \",metrics.f1_score(y_test, y_pred2)*100)"
   ]
  },
  {
   "cell_type": "code",
   "execution_count": 26,
   "id": "40f05d6f",
   "metadata": {},
   "outputs": [
    {
     "data": {
      "text/plain": [
       "Text(91.68, 0.5, 'predicted label')"
      ]
     },
     "execution_count": 26,
     "metadata": {},
     "output_type": "execute_result"
    },
    {
     "data": {
      "image/png": "[encoded data removed]",
      "text/plain": [
       "<Figure size 432x288 with 1 Axes>"
      ]
     },
     "metadata": {
      "needs_background": "light"
     },
     "output_type": "display_data"
    }
   ],
   "source": [
    "#Confustion Matrix heat map\n",
    "mat = confusion_matrix(y_test, y_pred2)\n",
    "sns.heatmap(mat.T, square=True, annot=True, fmt='d', cbar=False,\n",
    "            )\n",
    "plt.xlabel('true label')\n",
    "plt.ylabel('predicted label')"
   ]
  },
  {
   "cell_type": "code",
   "execution_count": 27,
   "id": "df4b490f",
   "metadata": {},
   "outputs": [
    {
     "name": "stdout",
     "output_type": "stream",
     "text": [
      "              precision    recall  f1-score   support\n",
      "\n",
      "           0       0.86      0.82      0.84      2785\n",
      "           1       0.87      0.90      0.88      3635\n",
      "\n",
      "    accuracy                           0.87      6420\n",
      "   macro avg       0.86      0.86      0.86      6420\n",
      "weighted avg       0.87      0.87      0.86      6420\n",
      "\n"
     ]
    }
   ],
   "source": [
    "#Classification Report\n",
    "print(metrics.classification_report(y_test, y_pred2))"
   ]
  },
  {
   "cell_type": "code",
   "execution_count": null,
   "id": "0f3cc16c",
   "metadata": {},
   "outputs": [],
   "source": []
  },
  {
   "cell_type": "code",
   "execution_count": null,
   "id": "b49a7d19",
   "metadata": {},
   "outputs": [],
   "source": []
  }
 ],
 "metadata": {
  "kernelspec": {
   "display_name": "Python 3",
   "language": "python",
   "name": "python3"
  },
  "language_info": {
   "codemirror_mode": {
    "name": "ipython",
    "version": 3
   },
   "file_extension": ".py",
   "mimetype": "text/x-python",
   "name": "python",
   "nbconvert_exporter": "python",
   "pygments_lexer": "ipython3",
   "version": "3.8.8"
  }
 },
 "nbformat": 4,
 "nbformat_minor": 5
}
