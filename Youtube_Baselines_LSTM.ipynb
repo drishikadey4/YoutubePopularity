{
  "nbformat": 4,
  "nbformat_minor": 0,
  "metadata": {
    "colab": {
      "name": "Youtube_Baselines_LSTM.ipynb",
      "provenance": []
    },
    "kernelspec": {
      "name": "python3",
      "display_name": "Python 3"
    },
    "language_info": {
      "name": "python"
    }
  },
  "cells": [
    {
      "cell_type": "code",
      "execution_count": 2,
      "metadata": {
        "id": "ecJr4sjB20ds"
      },
      "outputs": [],
      "source": [
        "from sklearn import metrics\n",
        "from sklearn.metrics import confusion_matrix,classification_report\n",
        "import seaborn as sns\n",
        "import pandas as pd\n",
        "import numpy as np\n",
        "import matplotlib.pyplot as plt\n",
        "from sklearn.model_selection import train_test_split\n",
        "import time\n",
        "from tensorflow.keras.layers import Embedding\n",
        "from tensorflow.keras.preprocessing.sequence import pad_sequences\n",
        "from tensorflow.keras.models import Sequential\n",
        "from tensorflow.keras.preprocessing.text import one_hot\n",
        "from tensorflow.keras.layers import LSTM, Bidirectional\n",
        "from tensorflow.keras.layers import Dense, Dropout\n",
        "from keras.preprocessing import sequence\n",
        "from keras.preprocessing import text\n",
        "from keras.layers import Conv1D, Flatten,MaxPooling1D\n",
        "from keras.preprocessing import text\n",
        "from sklearn.feature_extraction.text import TfidfVectorizer\n",
        "from sklearn.model_selection import GridSearchCV\n",
        "from sklearn.metrics import roc_auc_score, accuracy_score\n",
        "from sklearn.metrics import auc"
      ]
    },
    {
      "cell_type": "code",
      "source": [
        "#Read from Cleaned CSV\n",
        "CleanedData= pd.read_csv('/content/Cleaned_Youtube.csv',index_col=0)\n",
        "#See cleaned Data\n",
        "CleanedData.head()\n",
        "#Read from Cleaned data , resetting index\n",
        "CleanedData.reset_index(drop = True, inplace = True)\n",
        "CleanedData.head()"
      ],
      "metadata": {
        "colab": {
          "base_uri": "https://localhost:8080/",
          "height": 612
        },
        "id": "78uxpY003DMv",
        "outputId": "7376f42a-38e5-4d4a-c5a5-25131b1e5729"
      },
      "execution_count": 3,
      "outputs": [
        {
          "output_type": "execute_result",
          "data": {
            "text/plain": [
              "      video_id trending_date  \\\n",
              "0  2kyS6SvSYSE      17.14.11   \n",
              "1  1ZAPwfrtAFY      17.14.11   \n",
              "2  5qpjK5DgCt4      17.14.11   \n",
              "3  puqaWrEC7tY      17.14.11   \n",
              "4  gHZ1Qz0KiKM      17.14.11   \n",
              "\n",
              "                                               title          channel_title  \\\n",
              "0                 WE WANT TO TALK ABOUT OUR MARRIAGE           CaseyNeistat   \n",
              "1  The Trump Presidency: Last Week Tonight with J...        LastWeekTonight   \n",
              "2  Racist Superman | Rudy Mancuso, King Bach & Le...           Rudy Mancuso   \n",
              "3                   Nickelback Lyrics: Real or Fake?  Good Mythical Morning   \n",
              "4                              2 Weeks with iPhone X               iJustine   \n",
              "\n",
              "   category_id              publish_time  \\\n",
              "0           22  2017-11-13T17:13:01.000Z   \n",
              "1           24  2017-11-13T07:30:00.000Z   \n",
              "2           23  2017-11-12T19:05:24.000Z   \n",
              "3           24  2017-11-13T11:00:04.000Z   \n",
              "4           28  2017-11-13T19:07:23.000Z   \n",
              "\n",
              "                                                tags    views   likes  \\\n",
              "0                                    SHANtell martin   748374   57527   \n",
              "1  last week tonight trump presidency|\"last week ...  2418783   97185   \n",
              "2  racist superman|\"rudy\"|\"mancuso\"|\"king\"|\"bach\"...  3191434  146033   \n",
              "3  rhett and link|\"gmm\"|\"good mythical morning\"|\"...   343168   10172   \n",
              "4  ijustine|\"week with iPhone X\"|\"iphone x\"|\"appl...   119180    9763   \n",
              "\n",
              "   dislikes  ...                                  thumbnail_link  \\\n",
              "0      2966  ...  https://i.ytimg.com/vi/2kyS6SvSYSE/default.jpg   \n",
              "1      6146  ...  https://i.ytimg.com/vi/1ZAPwfrtAFY/default.jpg   \n",
              "2      5339  ...  https://i.ytimg.com/vi/5qpjK5DgCt4/default.jpg   \n",
              "3       666  ...  https://i.ytimg.com/vi/puqaWrEC7tY/default.jpg   \n",
              "4       511  ...  https://i.ytimg.com/vi/gHZ1Qz0KiKM/default.jpg   \n",
              "\n",
              "  comments_disabled  ratings_disabled  video_error_or_removed  \\\n",
              "0             False             False                   False   \n",
              "1             False             False                   False   \n",
              "2             False             False                   False   \n",
              "3             False             False                   False   \n",
              "4             False             False                   False   \n",
              "\n",
              "                                         description Language label  \\\n",
              "0  SHANTELL'S CHANNEL - https://www.youtube.com/s...  English     1   \n",
              "1  One year after the presidential election, John...  English     1   \n",
              "2  WATCH MY PREVIOUS VIDEO ▶ \\n\\nSUBSCRIBE ► http...  English     1   \n",
              "3  Today we find out if Link is a Nickelback amat...  English     0   \n",
              "4  Using the iPhone for the past two weeks -- her...  English     0   \n",
              "\n",
              "                                       No Punc Title  \\\n",
              "0                 we want to talk about our marriage   \n",
              "1  the trump presidency last week tonight with jo...   \n",
              "2  racist superman | rudy mancuso king bach  lele...   \n",
              "3                     nickelback lyrics real or fake   \n",
              "4                              2 weeks with iphone x   \n",
              "\n",
              "                                         token_title  \\\n",
              "0  ['we', 'want', 'to', 'talk', 'about', 'our', '...   \n",
              "1  ['the', 'trump', 'presidency', 'last', 'week',...   \n",
              "2  ['racist', 'superman', '|', 'rudy', 'mancuso',...   \n",
              "3     ['nickelback', 'lyrics', 'real', 'or', 'fake']   \n",
              "4              ['2', 'weeks', 'with', 'iphone', 'x']   \n",
              "\n",
              "                                                 lem  \n",
              "0  ['we', 'want', 'to', 'talk', 'about', 'our', '...  \n",
              "1  ['the', 'trump', 'presidency', 'last', 'week',...  \n",
              "2  ['racist', 'superman', '|', 'rudy', 'mancuso',...  \n",
              "3      ['nickelback', 'lyric', 'real', 'or', 'fake']  \n",
              "4               ['2', 'week', 'with', 'iphone', 'x']  \n",
              "\n",
              "[5 rows x 21 columns]"
            ],
            "text/html": [
              "\n",
              "  <div id=\"df-644089cd-08f2-4478-b3ad-7d7ebfb8c526\">\n",
              "    <div class=\"colab-df-container\">\n",
              "      <div>\n",
              "<style scoped>\n",
              "    .dataframe tbody tr th:only-of-type {\n",
              "        vertical-align: middle;\n",
              "    }\n",
              "\n",
              "    .dataframe tbody tr th {\n",
              "        vertical-align: top;\n",
              "    }\n",
              "\n",
              "    .dataframe thead th {\n",
              "        text-align: right;\n",
              "    }\n",
              "</style>\n",
              "<table border=\"1\" class=\"dataframe\">\n",
              "  <thead>\n",
              "    <tr style=\"text-align: right;\">\n",
              "      <th></th>\n",
              "      <th>video_id</th>\n",
              "      <th>trending_date</th>\n",
              "      <th>title</th>\n",
              "      <th>channel_title</th>\n",
              "      <th>category_id</th>\n",
              "      <th>publish_time</th>\n",
              "      <th>tags</th>\n",
              "      <th>views</th>\n",
              "      <th>likes</th>\n",
              "      <th>dislikes</th>\n",
              "      <th>...</th>\n",
              "      <th>thumbnail_link</th>\n",
              "      <th>comments_disabled</th>\n",
              "      <th>ratings_disabled</th>\n",
              "      <th>video_error_or_removed</th>\n",
              "      <th>description</th>\n",
              "      <th>Language</th>\n",
              "      <th>label</th>\n",
              "      <th>No Punc Title</th>\n",
              "      <th>token_title</th>\n",
              "      <th>lem</th>\n",
              "    </tr>\n",
              "  </thead>\n",
              "  <tbody>\n",
              "    <tr>\n",
              "      <th>0</th>\n",
              "      <td>2kyS6SvSYSE</td>\n",
              "      <td>17.14.11</td>\n",
              "      <td>WE WANT TO TALK ABOUT OUR MARRIAGE</td>\n",
              "      <td>CaseyNeistat</td>\n",
              "      <td>22</td>\n",
              "      <td>2017-11-13T17:13:01.000Z</td>\n",
              "      <td>SHANtell martin</td>\n",
              "      <td>748374</td>\n",
              "      <td>57527</td>\n",
              "      <td>2966</td>\n",
              "      <td>...</td>\n",
              "      <td>https://i.ytimg.com/vi/2kyS6SvSYSE/default.jpg</td>\n",
              "      <td>False</td>\n",
              "      <td>False</td>\n",
              "      <td>False</td>\n",
              "      <td>SHANTELL'S CHANNEL - https://www.youtube.com/s...</td>\n",
              "      <td>English</td>\n",
              "      <td>1</td>\n",
              "      <td>we want to talk about our marriage</td>\n",
              "      <td>['we', 'want', 'to', 'talk', 'about', 'our', '...</td>\n",
              "      <td>['we', 'want', 'to', 'talk', 'about', 'our', '...</td>\n",
              "    </tr>\n",
              "    <tr>\n",
              "      <th>1</th>\n",
              "      <td>1ZAPwfrtAFY</td>\n",
              "      <td>17.14.11</td>\n",
              "      <td>The Trump Presidency: Last Week Tonight with J...</td>\n",
              "      <td>LastWeekTonight</td>\n",
              "      <td>24</td>\n",
              "      <td>2017-11-13T07:30:00.000Z</td>\n",
              "      <td>last week tonight trump presidency|\"last week ...</td>\n",
              "      <td>2418783</td>\n",
              "      <td>97185</td>\n",
              "      <td>6146</td>\n",
              "      <td>...</td>\n",
              "      <td>https://i.ytimg.com/vi/1ZAPwfrtAFY/default.jpg</td>\n",
              "      <td>False</td>\n",
              "      <td>False</td>\n",
              "      <td>False</td>\n",
              "      <td>One year after the presidential election, John...</td>\n",
              "      <td>English</td>\n",
              "      <td>1</td>\n",
              "      <td>the trump presidency last week tonight with jo...</td>\n",
              "      <td>['the', 'trump', 'presidency', 'last', 'week',...</td>\n",
              "      <td>['the', 'trump', 'presidency', 'last', 'week',...</td>\n",
              "    </tr>\n",
              "    <tr>\n",
              "      <th>2</th>\n",
              "      <td>5qpjK5DgCt4</td>\n",
              "      <td>17.14.11</td>\n",
              "      <td>Racist Superman | Rudy Mancuso, King Bach &amp; Le...</td>\n",
              "      <td>Rudy Mancuso</td>\n",
              "      <td>23</td>\n",
              "      <td>2017-11-12T19:05:24.000Z</td>\n",
              "      <td>racist superman|\"rudy\"|\"mancuso\"|\"king\"|\"bach\"...</td>\n",
              "      <td>3191434</td>\n",
              "      <td>146033</td>\n",
              "      <td>5339</td>\n",
              "      <td>...</td>\n",
              "      <td>https://i.ytimg.com/vi/5qpjK5DgCt4/default.jpg</td>\n",
              "      <td>False</td>\n",
              "      <td>False</td>\n",
              "      <td>False</td>\n",
              "      <td>WATCH MY PREVIOUS VIDEO ▶ \\n\\nSUBSCRIBE ► http...</td>\n",
              "      <td>English</td>\n",
              "      <td>1</td>\n",
              "      <td>racist superman | rudy mancuso king bach  lele...</td>\n",
              "      <td>['racist', 'superman', '|', 'rudy', 'mancuso',...</td>\n",
              "      <td>['racist', 'superman', '|', 'rudy', 'mancuso',...</td>\n",
              "    </tr>\n",
              "    <tr>\n",
              "      <th>3</th>\n",
              "      <td>puqaWrEC7tY</td>\n",
              "      <td>17.14.11</td>\n",
              "      <td>Nickelback Lyrics: Real or Fake?</td>\n",
              "      <td>Good Mythical Morning</td>\n",
              "      <td>24</td>\n",
              "      <td>2017-11-13T11:00:04.000Z</td>\n",
              "      <td>rhett and link|\"gmm\"|\"good mythical morning\"|\"...</td>\n",
              "      <td>343168</td>\n",
              "      <td>10172</td>\n",
              "      <td>666</td>\n",
              "      <td>...</td>\n",
              "      <td>https://i.ytimg.com/vi/puqaWrEC7tY/default.jpg</td>\n",
              "      <td>False</td>\n",
              "      <td>False</td>\n",
              "      <td>False</td>\n",
              "      <td>Today we find out if Link is a Nickelback amat...</td>\n",
              "      <td>English</td>\n",
              "      <td>0</td>\n",
              "      <td>nickelback lyrics real or fake</td>\n",
              "      <td>['nickelback', 'lyrics', 'real', 'or', 'fake']</td>\n",
              "      <td>['nickelback', 'lyric', 'real', 'or', 'fake']</td>\n",
              "    </tr>\n",
              "    <tr>\n",
              "      <th>4</th>\n",
              "      <td>gHZ1Qz0KiKM</td>\n",
              "      <td>17.14.11</td>\n",
              "      <td>2 Weeks with iPhone X</td>\n",
              "      <td>iJustine</td>\n",
              "      <td>28</td>\n",
              "      <td>2017-11-13T19:07:23.000Z</td>\n",
              "      <td>ijustine|\"week with iPhone X\"|\"iphone x\"|\"appl...</td>\n",
              "      <td>119180</td>\n",
              "      <td>9763</td>\n",
              "      <td>511</td>\n",
              "      <td>...</td>\n",
              "      <td>https://i.ytimg.com/vi/gHZ1Qz0KiKM/default.jpg</td>\n",
              "      <td>False</td>\n",
              "      <td>False</td>\n",
              "      <td>False</td>\n",
              "      <td>Using the iPhone for the past two weeks -- her...</td>\n",
              "      <td>English</td>\n",
              "      <td>0</td>\n",
              "      <td>2 weeks with iphone x</td>\n",
              "      <td>['2', 'weeks', 'with', 'iphone', 'x']</td>\n",
              "      <td>['2', 'week', 'with', 'iphone', 'x']</td>\n",
              "    </tr>\n",
              "  </tbody>\n",
              "</table>\n",
              "<p>5 rows × 21 columns</p>\n",
              "</div>\n",
              "      <button class=\"colab-df-convert\" onclick=\"convertToInteractive('df-644089cd-08f2-4478-b3ad-7d7ebfb8c526')\"\n",
              "              title=\"Convert this dataframe to an interactive table.\"\n",
              "              style=\"display:none;\">\n",
              "        \n",
              "  <svg xmlns=\"http://www.w3.org/2000/svg\" height=\"24px\"viewBox=\"0 0 24 24\"\n",
              "       width=\"24px\">\n",
              "    <path d=\"M0 0h24v24H0V0z\" fill=\"none\"/>\n",
              "    <path d=\"M18.56 5.44l.94 2.06.94-2.06 2.06-.94-2.06-.94-.94-2.06-.94 2.06-2.06.94zm-11 1L8.5 8.5l.94-2.06 2.06-.94-2.06-.94L8.5 2.5l-.94 2.06-2.06.94zm10 10l.94 2.06.94-2.06 2.06-.94-2.06-.94-.94-2.06-.94 2.06-2.06.94z\"/><path d=\"M17.41 7.96l-1.37-1.37c-.4-.4-.92-.59-1.43-.59-.52 0-1.04.2-1.43.59L10.3 9.45l-7.72 7.72c-.78.78-.78 2.05 0 2.83L4 21.41c.39.39.9.59 1.41.59.51 0 1.02-.2 1.41-.59l7.78-7.78 2.81-2.81c.8-.78.8-2.07 0-2.86zM5.41 20L4 18.59l7.72-7.72 1.47 1.35L5.41 20z\"/>\n",
              "  </svg>\n",
              "      </button>\n",
              "      \n",
              "  <style>\n",
              "    .colab-df-container {\n",
              "      display:flex;\n",
              "      flex-wrap:wrap;\n",
              "      gap: 12px;\n",
              "    }\n",
              "\n",
              "    .colab-df-convert {\n",
              "      background-color: #E8F0FE;\n",
              "      border: none;\n",
              "      border-radius: 50%;\n",
              "      cursor: pointer;\n",
              "      display: none;\n",
              "      fill: #1967D2;\n",
              "      height: 32px;\n",
              "      padding: 0 0 0 0;\n",
              "      width: 32px;\n",
              "    }\n",
              "\n",
              "    .colab-df-convert:hover {\n",
              "      background-color: #E2EBFA;\n",
              "      box-shadow: 0px 1px 2px rgba(60, 64, 67, 0.3), 0px 1px 3px 1px rgba(60, 64, 67, 0.15);\n",
              "      fill: #174EA6;\n",
              "    }\n",
              "\n",
              "    [theme=dark] .colab-df-convert {\n",
              "      background-color: #3B4455;\n",
              "      fill: #D2E3FC;\n",
              "    }\n",
              "\n",
              "    [theme=dark] .colab-df-convert:hover {\n",
              "      background-color: #434B5C;\n",
              "      box-shadow: 0px 1px 3px 1px rgba(0, 0, 0, 0.15);\n",
              "      filter: drop-shadow(0px 1px 2px rgba(0, 0, 0, 0.3));\n",
              "      fill: #FFFFFF;\n",
              "    }\n",
              "  </style>\n",
              "\n",
              "      <script>\n",
              "        const buttonEl =\n",
              "          document.querySelector('#df-644089cd-08f2-4478-b3ad-7d7ebfb8c526 button.colab-df-convert');\n",
              "        buttonEl.style.display =\n",
              "          google.colab.kernel.accessAllowed ? 'block' : 'none';\n",
              "\n",
              "        async function convertToInteractive(key) {\n",
              "          const element = document.querySelector('#df-644089cd-08f2-4478-b3ad-7d7ebfb8c526');\n",
              "          const dataTable =\n",
              "            await google.colab.kernel.invokeFunction('convertToInteractive',\n",
              "                                                     [key], {});\n",
              "          if (!dataTable) return;\n",
              "\n",
              "          const docLinkHtml = 'Like what you see? Visit the ' +\n",
              "            '<a target=\"_blank\" href=https://colab.research.google.com/notebooks/data_table.ipynb>data table notebook</a>'\n",
              "            + ' to learn more about interactive tables.';\n",
              "          element.innerHTML = '';\n",
              "          dataTable['output_type'] = 'display_data';\n",
              "          await google.colab.output.renderOutput(dataTable, element);\n",
              "          const docLink = document.createElement('div');\n",
              "          docLink.innerHTML = docLinkHtml;\n",
              "          element.appendChild(docLink);\n",
              "        }\n",
              "      </script>\n",
              "    </div>\n",
              "  </div>\n",
              "  "
            ]
          },
          "metadata": {},
          "execution_count": 3
        }
      ]
    },
    {
      "cell_type": "code",
      "source": [
        "corpus = [CleanedData['No Punc Title'][i] for i in range( len(CleanedData))]\n",
        "\n",
        "voc_size=5000\n",
        "\n",
        "onehot_=[one_hot(words,voc_size)for words in corpus] \n",
        "\n",
        "max_sent_length = 20\n",
        "\n",
        "embedded_docs=pad_sequences(onehot_,padding='pre',maxlen=max_sent_length)\n",
        "    \n",
        "embedding_vector_features=40\n",
        "\n",
        "X_final=np.array(embedded_docs)\n",
        "y_final=np.array(CleanedData['label'])\n",
        "\n",
        "\n",
        "#Train Test Split \n",
        "# X - > No punctuation column\n",
        "# Y - > label\n",
        "# 80/20 split\n",
        "X_train_lstm, X_test_lstm, y_train_lstm, y_test_lstm = train_test_split(X_final, y_final, test_size=0.2, random_state=10)"
      ],
      "metadata": {
        "id": "8feMnARl3Xal"
      },
      "execution_count": 4,
      "outputs": []
    },
    {
      "cell_type": "code",
      "source": [
        "lstm_model=Sequential()\n",
        "lstm_model.add(Embedding(voc_size,embedding_vector_features,input_length=max_sent_length))\n",
        "lstm_model.add(Dropout(0.3))\n",
        "lstm_model.add(Bidirectional(LSTM(100)))\n",
        "lstm_model.add(Dropout(0.3))\n",
        "lstm_model.add(Flatten())\n",
        "lstm_model.add(Dense(1,activation='sigmoid'))\n",
        "lstm_model.compile(loss='binary_crossentropy',optimizer='adam',metrics=['accuracy'])\n",
        "print(lstm_model.summary())"
      ],
      "metadata": {
        "colab": {
          "base_uri": "https://localhost:8080/",
          "height": 0
        },
        "id": "pnmEhrJQ3Xqr",
        "outputId": "c3965e70-d995-4110-f574-9d93fd96b589"
      },
      "execution_count": 5,
      "outputs": [
        {
          "output_type": "stream",
          "name": "stdout",
          "text": [
            "Model: \"sequential\"\n",
            "_________________________________________________________________\n",
            " Layer (type)                Output Shape              Param #   \n",
            "=================================================================\n",
            " embedding (Embedding)       (None, 20, 40)            200000    \n",
            "                                                                 \n",
            " dropout (Dropout)           (None, 20, 40)            0         \n",
            "                                                                 \n",
            " bidirectional (Bidirectiona  (None, 200)              112800    \n",
            " l)                                                              \n",
            "                                                                 \n",
            " dropout_1 (Dropout)         (None, 200)               0         \n",
            "                                                                 \n",
            " flatten (Flatten)           (None, 200)               0         \n",
            "                                                                 \n",
            " dense (Dense)               (None, 1)                 201       \n",
            "                                                                 \n",
            "=================================================================\n",
            "Total params: 313,001\n",
            "Trainable params: 313,001\n",
            "Non-trainable params: 0\n",
            "_________________________________________________________________\n",
            "None\n"
          ]
        }
      ]
    },
    {
      "cell_type": "code",
      "source": [
        "lstm_model.fit(X_train_lstm,y_train_lstm,validation_data=(X_test_lstm,y_test_lstm),epochs=2,batch_size=64)\n",
        "# fitting model"
      ],
      "metadata": {
        "colab": {
          "base_uri": "https://localhost:8080/",
          "height": 0
        },
        "id": "hWIObOBG3dCi",
        "outputId": "2049fa0d-403b-4d7a-a5d4-69f4da0d97ed"
      },
      "execution_count": 7,
      "outputs": [
        {
          "output_type": "stream",
          "name": "stdout",
          "text": [
            "Epoch 1/2\n",
            "803/803 [==============================] - 42s 46ms/step - loss: 0.5476 - accuracy: 0.7184 - val_loss: 0.4695 - val_accuracy: 0.7874\n",
            "Epoch 2/2\n",
            "803/803 [==============================] - 37s 46ms/step - loss: 0.4178 - accuracy: 0.8181 - val_loss: 0.4305 - val_accuracy: 0.8174\n"
          ]
        },
        {
          "output_type": "execute_result",
          "data": {
            "text/plain": [
              "<keras.callbacks.History at 0x7f554d740110>"
            ]
          },
          "metadata": {},
          "execution_count": 7
        }
      ]
    },
    {
      "cell_type": "code",
      "source": [
        "y_test_pred=lstm_model.predict(X_test_lstm)\n",
        "y_train_pred=lstm_model.predict(X_train_lstm)\n",
        "#Taking argmax  of y_pred\n",
        "y_test_pred=(y_test_pred>0.5)\n",
        "test_acc_lstm = accuracy_score(y_test_lstm,y_test_pred)\n",
        "print(\"next Test ACC\", test_acc_lstm)\n",
        "y_train_pred=(y_train_pred>0.5)\n",
        "train_acc_lstm = accuracy_score(y_train_lstm,y_train_pred)\n",
        "print(\"Train ACC\", train_acc_lstm)"
      ],
      "metadata": {
        "colab": {
          "base_uri": "https://localhost:8080/",
          "height": 0
        },
        "id": "S3y--eUj3f86",
        "outputId": "0cbf9019-5f94-490f-ee68-ad84ccef90fe"
      },
      "execution_count": 8,
      "outputs": [
        {
          "output_type": "stream",
          "name": "stdout",
          "text": [
            "next Test ACC 0.8174312641171431\n",
            "Train ACC 0.866008490088406\n"
          ]
        }
      ]
    },
    {
      "cell_type": "code",
      "source": [
        "# Metrics\n",
        "print(\"Accuracy \",metrics.accuracy_score(y_test_lstm,y_test_pred)*100)\n",
        "print(\"F1 Score \",metrics.f1_score(y_test_lstm,y_test_pred)*100)"
      ],
      "metadata": {
        "colab": {
          "base_uri": "https://localhost:8080/",
          "height": 0
        },
        "id": "xyyy4ZY63ju_",
        "outputId": "69ac0cb7-cf3b-469c-935e-0df0724a3ba2"
      },
      "execution_count": 9,
      "outputs": [
        {
          "output_type": "stream",
          "name": "stdout",
          "text": [
            "Accuracy  81.7431264117143\n",
            "F1 Score  84.1170890364548\n"
          ]
        }
      ]
    },
    {
      "cell_type": "code",
      "source": [
        "#Confusion Matrix heat map\n",
        "mat = confusion_matrix(y_test_lstm,y_test_pred)\n",
        "sns.heatmap(mat.T, square=True, annot=True, fmt='d', cbar=False,\n",
        "            )\n",
        "plt.xlabel('true label')\n",
        "plt.ylabel('predicted label')"
      ],
      "metadata": {
        "colab": {
          "base_uri": "https://localhost:8080/",
          "height": 297
        },
        "id": "UbSxcHJC3pb8",
        "outputId": "f51e5fcc-57fb-41b9-81c0-b75683806bd6"
      },
      "execution_count": 10,
      "outputs": [
        {
          "output_type": "execute_result",
          "data": {
            "text/plain": [
              "Text(91.68, 0.5, 'predicted label')"
            ]
          },
          "metadata": {},
          "execution_count": 10
        },
        {
          "output_type": "display_data",
          "data": {
            "text/plain": [
              "<Figure size 432x288 with 1 Axes>"
            ],
            "image/png": "[encoded data removed]"
          },
          "metadata": {
            "needs_background": "light"
          }
        }
      ]
    },
    {
      "cell_type": "code",
      "source": [
        "#Classification Report\n",
        "print(metrics.classification_report(y_test_lstm,y_test_pred))"
      ],
      "metadata": {
        "colab": {
          "base_uri": "https://localhost:8080/",
          "height": 0
        },
        "id": "kBCGevJb3ph2",
        "outputId": "9488b4b2-1427-479d-a77f-dde7a0deb211"
      },
      "execution_count": 11,
      "outputs": [
        {
          "output_type": "stream",
          "name": "stdout",
          "text": [
            "              precision    recall  f1-score   support\n",
            "\n",
            "           0       0.80      0.77      0.79      5585\n",
            "           1       0.83      0.86      0.84      7254\n",
            "\n",
            "    accuracy                           0.82     12839\n",
            "   macro avg       0.82      0.81      0.81     12839\n",
            "weighted avg       0.82      0.82      0.82     12839\n",
            "\n"
          ]
        }
      ]
    },
    {
      "cell_type": "code",
      "source": [
        ""
      ],
      "metadata": {
        "id": "r003gp-03plh"
      },
      "execution_count": null,
      "outputs": []
    },
    {
      "cell_type": "code",
      "source": [
        ""
      ],
      "metadata": {
        "id": "0CtFXvjO3pol"
      },
      "execution_count": null,
      "outputs": []
    }
  ]
}